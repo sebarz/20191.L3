{
 "cells": [
  {
   "cell_type": "code",
   "execution_count": 2,
   "metadata": {},
   "outputs": [],
   "source": [
    "!pip install -q oauth2client==1.5.2\n",
    "import sys\n",
    "sys.path.append(\"./utils/student_function/\")\n",
    "import matplotlib.pyplot as plt\n",
    "%matplotlib inline"
   ]
  },
  {
   "cell_type": "code",
   "execution_count": 2,
   "metadata": {},
   "outputs": [
    {
     "name": "stdout",
     "output_type": "stream",
     "text": [
      "CLICK ON THIS LINK TO AUTHENTICATE WITH YOUR GMAIL ACCOUNT\n",
      "https://accounts.google.com/o/oauth2/auth?client_id=486275613361-7nk9ktukfcfjevfoe3tamjp0pmbjmprs.apps.googleusercontent.com&redirect_uri=http%3A%2F%2Flocalhost%3A8080&scope=profile+email&access_type=offline&response_type=code\n",
      "waiting for authentication ...\n",
      "authentication succeeded\n"
     ]
    },
    {
     "data": {
      "text/html": [
       "<table><tr><td><img src='https://lh3.googleusercontent.com/-6drYk1CcCkw/AAAAAAAAAAI/AAAAAAAAAAA/ACHi3rfg8MS7sIUhvebrC6InFGWYXrXAcQ/photo.jpg' width=60 height=60/></td><td>sebastian.ruiz8@udea.edu.co<br/>SEBASTIAN  RUIZ PALACIO<br/>google id: 114687344014261575746<br/>authorization code: 4/qgGHjxSm6dnMdHcIyRnP8n3NI-qa1dXdRoh-0dZn_jsqzpFpM4wzzWaHtdTTmD2HQ99df7Xd53eJxUqcaSBbHVg</td></tr></table>"
      ],
      "text/plain": [
       "<IPython.core.display.HTML object>"
      ]
     },
     "execution_count": 2,
     "metadata": {},
     "output_type": "execute_result"
    }
   ],
   "source": [
    "from mooclib import *\n",
    "import inspect, urllib\n",
    "html, auth_code, userinfo = google_authenticate(PORT_NUMBER=8080)\n",
    "html"
   ]
  },
  {
   "cell_type": "markdown",
   "metadata": {},
   "source": [
    "## Ejercicio 1\n",
    "\n",
    "crea el constructor de un grafo que se representa como una lista de nodos conectados para cada nodo. Por ejemplo:\n",
    "\n",
    "    g1 = st.Graph(num_nodes=4, edge_list=[(0, 1), (0, 2), (0, 3), (1, 2), (1, 3), (2, 3), (2,1)])\n",
    "    print g1.nodes\n",
    "\n",
    "    > {0: [1, 2, 3], 1: [0, 2, 3], 2: [0, 1, 3], 3: [0, 1, 2]}\n",
    "    \n",
    "o también en el caso de un grafo dirigido:\n",
    "\n",
    "    g1 = st.Graph(num_nodes=4, edge_list=[(0, 1), (0, 2), (0, 3), (1, 2), (1, 3), (2, 3), (2,1)], is_directed=True)\n",
    "    print g1.nodes\n",
    "    \n",
    "    > {0: [1, 2, 3], 1: [2, 3], 2: [1, 3]}\n",
    "\n",
    "observa que, \n",
    "\n",
    "- si tenemos un grafo dirigido y el lado $(V_i, V_j)$, entonces $i$ ha de estar en la lista de nodos de $j$ y viceversa.\n",
    "- en cambio, con un grafo dirigido, sólo $i$ ha de estar en la lista de nodos de $j$.\n",
    "- la lista de nodos conectados con cada nodo ha de quedar **compacta**, no puede haber nodos repetidos. P.ej. si en la lista de lados se encuentran ambos (5,1) y (1,5), o hay lados repetidos.\n",
    "- igualmente, puede haber nodos con su lista asociada vacía, es decir, que un grafo puede tener nodos que no están conectados con ningún otro nodo, pero son parte del grafo como cualquier otro nodo."
   ]
  },
  {
   "cell_type": "code",
   "execution_count": 3,
   "metadata": {},
   "outputs": [
    {
     "name": "stdout",
     "output_type": "stream",
     "text": [
      "Overwriting ./utils/student_function/PS08_01.py\n"
     ]
    }
   ],
   "source": [
    "%%writefile ./utils/student_function/PS08_01.py\n",
    "import numpy as np\n",
    "class Graph:\n",
    "    \n",
    "    def __init__(self, num_nodes, edge_list, is_directed=False):\n",
    "        \n",
    "        assert type(edge_list)==list, \"edge_list must be a list of tuples\"\n",
    "        assert type(num_nodes)==int, \"num_nodes must be an int\"\n",
    "        \n",
    "        for t in edge_list:\n",
    "            assert len(t)==2, \"edge_list must be a list of tuples\"\n",
    "            assert t[0]<num_nodes and t[0]>=0 and t[1]<num_nodes and t[1]>=0, \"edge number not allowed \" + str(t)\n",
    "        \n",
    "        self.is_directed = is_directed\n",
    "        self.num_nodes   = num_nodes\n",
    "        self.nodes = {}\n",
    "        \n",
    "        #Creo diccionario con listas vacias\n",
    "        for i in range(num_nodes):\n",
    "            self.nodes[i] = []\n",
    "            \n",
    "        #lleno el diccionario \n",
    "        for i,j in edge_list:\n",
    "            if(is_directed == True):\n",
    "                self.nodes[i].append(j)\n",
    "            else:\n",
    "                self.nodes[i].append(j)\n",
    "                self.nodes[j].append(i)\n",
    "                \n",
    "        #Eliminar Repetidos\n",
    "        for i in range (num_nodes):\n",
    "            self.nodes[i] = list(dict.fromkeys(self.nodes[i]))  "
   ]
  },
  {
   "cell_type": "markdown",
   "metadata": {},
   "source": [
    "prueba tu código"
   ]
  },
  {
   "cell_type": "code",
   "execution_count": 11,
   "metadata": {},
   "outputs": [
    {
     "name": "stdout",
     "output_type": "stream",
     "text": [
      "{0: [1, 2, 3], 1: [0, 2, 3], 2: [0, 1, 3], 3: [0, 1, 2]}\n"
     ]
    }
   ],
   "source": [
    "import PS08_01 as st\n",
    "import importlib\n",
    "importlib.reload(st)\n",
    "g1 = st.Graph(4, [(0, 1), (0, 2), (0, 3), (1, 2), (1, 3), (2, 3), (2,1)])\n",
    "print(g1.nodes)"
   ]
  },
  {
   "cell_type": "code",
   "execution_count": 12,
   "metadata": {},
   "outputs": [
    {
     "name": "stdout",
     "output_type": "stream",
     "text": [
      "{0: [1, 2, 3], 1: [2, 3], 2: [3, 1], 3: []}\n"
     ]
    }
   ],
   "source": [
    "g1 = st.Graph(4, [(0, 1), (0, 2), (0, 3), (1, 2), (1, 3), (2, 3), (2,1)], is_directed=True)\n",
    "print(g1.nodes)"
   ]
  },
  {
   "cell_type": "markdown",
   "metadata": {},
   "source": [
    "#### comprueba tu código con el corrector automático"
   ]
  },
  {
   "cell_type": "code",
   "execution_count": 13,
   "metadata": {
    "scrolled": true
   },
   "outputs": [
    {
     "name": "stdout",
     "output_type": "stream",
     "text": [
      "\r\n",
      "** CORRECTO **\r\n",
      "evaluation result 5.0\r\n"
     ]
    }
   ],
   "source": [
    "!./run CHECK_SOLUTION PS08_01"
   ]
  },
  {
   "cell_type": "markdown",
   "metadata": {},
   "source": [
    "#### registra tu solución en línea"
   ]
  },
  {
   "cell_type": "code",
   "execution_count": 14,
   "metadata": {},
   "outputs": [
    {
     "name": "stdout",
     "output_type": "stream",
     "text": [
      "connecting ... registering submission for sebastian.ruiz8@udea.edu.co ...\n",
      "no config found for section PS08, allowing all submissions\n",
      "your submissions sheet is https://docs.google.com/spreadsheets/d/1WaK6Gr9sKYog5B6r3UnFKCNRUOte1AwPbjkDQg5r3kI\n",
      "\n",
      "** CORRECTO **\n",
      "----\n",
      "evaluation result 5.0 , submission registered\n"
     ]
    }
   ],
   "source": [
    "!./run SUBMIT_SOLUTION PS08_01"
   ]
  },
  {
   "cell_type": "markdown",
   "metadata": {},
   "source": [
    "## Ejercicio 2\n",
    "\n",
    "completa el método `as_nx` para crear el grafo de `networkx` correspondiente. Revisa la documentación de `networkx.Graph` y de `networkx.DiGraph`. Ten en cuenta que:\n",
    "\n",
    "- la clase para grafos no dirigidos es `networkx.Graph`\n",
    "- la clase para grados dirigidos es `networkx.DiGraph`\n",
    "- en cualquiera de los dos casos el método para añadir nodos es `add_nodes_from`\n",
    "- en cualquiera de los dos casos el método para añadir lados es `add_edge`\n",
    "\n",
    "Una vez hayas implementado tu método, puedes usar `draw` para visualizar el grafo."
   ]
  },
  {
   "cell_type": "code",
   "execution_count": 6,
   "metadata": {},
   "outputs": [
    {
     "name": "stdout",
     "output_type": "stream",
     "text": [
      "Overwriting ./utils/student_function/PS08_02.py\n"
     ]
    }
   ],
   "source": [
    "%%writefile ./utils/student_function/PS08_02.py\n",
    "import numpy as np\n",
    "import networkx as nx\n",
    "\n",
    "class Graph:\n",
    "    def __init__(self, num_nodes, edge_list, is_directed=False):\n",
    "        assert type(edge_list)==list, \"edge_list must be a list of tuples\"\n",
    "        assert type(num_nodes)==int, \"num_nodes must be an int\"\n",
    "        \n",
    "        for t in edge_list:\n",
    "            assert len(t)==2, \"edge_list must be a list of tuples\"\n",
    "            assert t[0]<num_nodes and t[0]>=0 and t[1]<num_nodes and t[1]>=0, \"edge number not allowed \" + str(t)\n",
    "        \n",
    "        self.is_directed = is_directed\n",
    "        self.num_nodes   = num_nodes\n",
    "        self.nodes = d = {i:[] for i in range(num_nodes)}\n",
    "             \n",
    "        for i,j in edge_list:\n",
    "            if not j in d[i]: d[i].append(j)\n",
    "            if not is_directed:\n",
    "                if not i in d[j]: d[j].append(i)\n",
    "            \n",
    "\n",
    "        for i in d.values(): i.sort()\n",
    "                \n",
    "    def as_nx(self):\n",
    "        g = nx.DiGraph() if self.is_directed else nx.Graph()\n",
    "        g.add_nodes_from(self.nodes)\n",
    "        for i in self.nodes.keys():\n",
    "            for j in self.nodes[i]:\n",
    "                g.add_edge(i,j)\n",
    "        \n",
    "        return g\n",
    "    \n",
    "    def draw(self):\n",
    "        ng = self.as_nx()\n",
    "        nx.drawing.draw(ng, arrows=self.is_directed, with_labels=True, \n",
    "                        node_alpha=.2, node_color=\"blue\", \n",
    "                        node_size=900, font_color=\"white\")"
   ]
  },
  {
   "cell_type": "markdown",
   "metadata": {},
   "source": [
    "prueba tu código"
   ]
  },
  {
   "cell_type": "code",
   "execution_count": 7,
   "metadata": {},
   "outputs": [
    {
     "data": {
      "image/png": "[encoded data removed]",
      "text/plain": [
       "<Figure size 432x288 with 1 Axes>"
      ]
     },
     "metadata": {},
     "output_type": "display_data"
    }
   ],
   "source": [
    "import PS08_02 as st\n",
    "import importlib\n",
    "importlib.reload(st)\n",
    "import matplotlib.pyplot as plt\n",
    "%matplotlib inline\n",
    "\n",
    "g1 = st.Graph(5, [(0, 1), (0, 2), (0, 3), (1, 2), (2, 3), (2,4), (3,4)])\n",
    "g1.draw()"
   ]
  },
  {
   "cell_type": "code",
   "execution_count": 8,
   "metadata": {},
   "outputs": [
    {
     "data": {
      "image/png": "[encoded data removed]",
      "text/plain": [
       "<Figure size 432x288 with 1 Axes>"
      ]
     },
     "metadata": {},
     "output_type": "display_data"
    }
   ],
   "source": [
    "g2 = st.Graph(5, [(0,1), (0,2), (1,3), (2,4), (3,4), (3,2)], is_directed=True)\n",
    "g2.draw()"
   ]
  },
  {
   "cell_type": "code",
   "execution_count": 9,
   "metadata": {},
   "outputs": [
    {
     "name": "stdout",
     "output_type": "stream",
     "text": [
      "\r\n",
      "** CORRECTO **\r\n",
      "evaluation result 5.0\r\n"
     ]
    }
   ],
   "source": [
    "!./run CHECK_SOLUTION PS08_02"
   ]
  },
  {
   "cell_type": "markdown",
   "metadata": {},
   "source": [
    "#### registra tu solución en línea"
   ]
  },
  {
   "cell_type": "code",
   "execution_count": 10,
   "metadata": {},
   "outputs": [
    {
     "name": "stdout",
     "output_type": "stream",
     "text": [
      "connecting ... registering submission for sebastian.ruiz8@udea.edu.co ...\n",
      "no config found for section PS08, allowing all submissions\n",
      "your submissions sheet is https://docs.google.com/spreadsheets/d/1WaK6Gr9sKYog5B6r3UnFKCNRUOte1AwPbjkDQg5r3kI\n",
      "\n",
      "** CORRECTO **\n",
      "----\n",
      "evaluation result 5.0 , submission registered\n"
     ]
    }
   ],
   "source": [
    "!./run SUBMIT_SOLUTION PS08_02"
   ]
  },
  {
   "cell_type": "markdown",
   "metadata": {},
   "source": [
    "## Ejercicio 3\n",
    "\n",
    "implementa los métodos indicados para tu clase con la implementación del grafo como un diccionario de listas de nodos conectados."
   ]
  },
  {
   "cell_type": "code",
   "execution_count": 6,
   "metadata": {},
   "outputs": [
    {
     "name": "stdout",
     "output_type": "stream",
     "text": [
      "Overwriting ./utils/student_function/PS08_03.py\n"
     ]
    }
   ],
   "source": [
    "%%writefile ./utils/student_function/PS08_03.py\n",
    "import numpy as np\n",
    "import networkx as nx\n",
    "class Graph():\n",
    "\n",
    "    def __init__(self, num_nodes, edge_list, is_directed=False):\n",
    "        assert type(edge_list)==list, \"edge_list must be a list of tuples\"\n",
    "        assert type(num_nodes)==int, \"num_nodes must be an int\"\n",
    "        \n",
    "        for t in edge_list:\n",
    "            assert len(t)==2, \"edge_list must be a list of tuples\"\n",
    "            assert t[0]<num_nodes and t[0]>=0 and t[1]<num_nodes and t[1]>=0, \"edge number not allowed \" + str(t)\n",
    "        \n",
    "        self.is_directed = is_directed\n",
    "        self.num_nodes   = num_nodes\n",
    "        self.nodes = d = {i:[] for i in range(num_nodes)}\n",
    "             \n",
    "        for i,j in edge_list:\n",
    "            if not j in d[i]: d[i].append(j)\n",
    "            if not is_directed:\n",
    "                if not i in d[j]: d[j].append(i)\n",
    "            \n",
    "\n",
    "        for i in d.values(): i.sort()\n",
    "            \n",
    "    def as_nx(self):\n",
    "        g = nx.DiGraph() if self.is_directed else nx.Graph()\n",
    "        g.add_nodes_from(self.nodes)\n",
    "        for i in self.nodes.keys():\n",
    "            for j in self.nodes[i]:\n",
    "                g.add_edge(i,j)\n",
    "        \n",
    "        return g\n",
    "    \n",
    "    def draw(self):\n",
    "        ng = self.as_nx()\n",
    "        nx.drawing.draw(ng, arrows=self.is_directed, with_labels=True, \n",
    "                        node_alpha=.2, node_color=\"blue\", \n",
    "                        node_size=900, font_color=\"white\")\n",
    "                \n",
    "    def assert_valid_node_number(self, n):\n",
    "        assert n>=0 and n<self.num_nodes, \"invalid node number: %d\"%n        \n",
    "    \n",
    "    def grade(self, node_number):\n",
    "        self.assert_valid_node_number(node_number)\n",
    "        return len(self.nodes[node_number]) if not self.is_directed else self.grade_in(node_number) + self.grade_out(node_number)\n",
    "    \n",
    "    def grade_out(self, node_number):\n",
    "        assert self.is_directed, \"only directed graphs have in/out grades\"\n",
    "        self.assert_valid_node_number(node_number)\n",
    "        \n",
    "        return len(self.nodes[node_number])\n",
    "\n",
    "    def grade_in(self, node_number):\n",
    "        assert self.is_directed, \"only directed graphs have in/out grades\"\n",
    "        self.assert_valid_node_number(node_number)\n",
    "        grade_in = 0\n",
    "        for i in self.nodes.values():\n",
    "            if node_number in i: grade_in += 1\n",
    "   \n",
    "        return grade_in\n",
    "\n",
    "    def are_adyacent(self, node_number_1, node_number_2):\n",
    "        self.assert_valid_node_number(node_number_1)\n",
    "        self.assert_valid_node_number(node_number_2)\n",
    "        \n",
    "        return True if node_number_2 in self.nodes[node_number_1] or node_number_1 in self.nodes[node_number_2] else False\n",
    "        \n",
    "    def is_valid_trayectory(self, trayectory):\n",
    "        assert type(trayectory)==list, \"trayectory must be a list\"\n",
    "        \n",
    "        for i in range(len(trayectory)-1):\n",
    "            if not self.is_directed and not self.are_adyacent(trayectory[i],trayectory[i+1]):\n",
    "                return False\n",
    "            elif not trayectory[i+1] in self.nodes[trayectory[i]]:\n",
    "                return False\n",
    "            \n",
    "        return True\n",
    "    "
   ]
  },
  {
   "cell_type": "code",
   "execution_count": 12,
   "metadata": {},
   "outputs": [
    {
     "name": "stdout",
     "output_type": "stream",
     "text": [
      "node 0 , grade = 2\n",
      "node 1 , grade = 3\n",
      "node 2 , grade = 3\n",
      "node 3 , grade = 2\n"
     ]
    }
   ],
   "source": [
    "import PS08_03 as st\n",
    "import importlib\n",
    "importlib.reload(st)\n",
    "g1 = st.Graph(4, [(0, 1), (0, 2), (1, 2), (1, 3), (2, 3)])\n",
    "for i in range(g1.num_nodes):\n",
    "    print(\"node\",i, \", grade =\", g1.grade(i))"
   ]
  },
  {
   "cell_type": "code",
   "execution_count": 13,
   "metadata": {},
   "outputs": [
    {
     "name": "stdout",
     "output_type": "stream",
     "text": [
      "node 0 , grade_in = 2 , grade_out = 1 , total grade = 3\n",
      "node 1 , grade_in = 1 , grade_out = 2 , total grade = 3\n",
      "node 2 , grade_in = 1 , grade_out = 2 , total grade = 3\n",
      "node 3 , grade_in = 1 , grade_out = 0 , total grade = 1\n"
     ]
    }
   ],
   "source": [
    "g3 = st.Graph(4, [(0,1), (1,0), (1,2), (2,0), (2,3)], is_directed=True)\n",
    "for i in range(g3.num_nodes):\n",
    "    print(\"node\",i, \", grade_in =\", g3.grade_in(i),\", grade_out =\", g3.grade_out(i), \", total grade =\", g3.grade(i))"
   ]
  },
  {
   "cell_type": "code",
   "execution_count": 14,
   "metadata": {},
   "outputs": [
    {
     "name": "stdout",
     "output_type": "stream",
     "text": [
      "True\n",
      "True\n",
      "False\n"
     ]
    }
   ],
   "source": [
    "print(g3.are_adyacent(0,1))\n",
    "print(g3.are_adyacent(3,2))\n",
    "print(g3.are_adyacent(0,3))"
   ]
  },
  {
   "cell_type": "code",
   "execution_count": 15,
   "metadata": {},
   "outputs": [
    {
     "name": "stdout",
     "output_type": "stream",
     "text": [
      "          trayectory    is_valid \n",
      "        [0, 1, 2, 3]       True\n",
      "           [0, 2, 1]      False\n",
      "        [2, 0, 1, 0]       True\n"
     ]
    }
   ],
   "source": [
    "t1 = [ 0, 1, 2, 3]\n",
    "t2 = [ 0, 2, 1]\n",
    "t3 = [ 2,0,1,0]\n",
    "print(\"          trayectory    is_valid \")\n",
    "for t in [t1, t2, t3]:\n",
    "    print(\"%20s\"%str(t), \"%10s\"%g3.is_valid_trayectory(t))"
   ]
  },
  {
   "cell_type": "markdown",
   "metadata": {},
   "source": [
    "#### comprueba tu código con el corrector automático"
   ]
  },
  {
   "cell_type": "code",
   "execution_count": 16,
   "metadata": {},
   "outputs": [
    {
     "name": "stdout",
     "output_type": "stream",
     "text": [
      "\r\n",
      "** CORRECTO **\r\n",
      "evaluation result 5.0\r\n"
     ]
    }
   ],
   "source": [
    "!./run CHECK_SOLUTION PS08_03"
   ]
  },
  {
   "cell_type": "markdown",
   "metadata": {},
   "source": [
    "#### registra tu solución en línea"
   ]
  },
  {
   "cell_type": "code",
   "execution_count": 17,
   "metadata": {},
   "outputs": [
    {
     "name": "stdout",
     "output_type": "stream",
     "text": [
      "connecting ... registering submission for sebastian.ruiz8@udea.edu.co ...\n",
      "no config found for section PS08, allowing all submissions\n",
      "your submissions sheet is https://docs.google.com/spreadsheets/d/1WaK6Gr9sKYog5B6r3UnFKCNRUOte1AwPbjkDQg5r3kI\n",
      "\n",
      "** CORRECTO **\n",
      "----\n",
      "evaluation result 5.0 , submission registered\n"
     ]
    }
   ],
   "source": [
    "!./run SUBMIT_SOLUTION PS08_03"
   ]
  },
  {
   "cell_type": "markdown",
   "metadata": {},
   "source": [
    "## Ejercicio 4\n",
    "\n",
    "Realiza el constructor para que inicialice una representación como una matriz de incidencia. Asumamos que tenemos **solamente grafos NO dirigidos**, no tengas el cuenta el caso de grafos dirigidos.\n",
    "\n",
    "Una **matric de incidencia** es una matriz de m filas y n columnas siendo:\n",
    "\n",
    "- m = número vértices del grafo.\n",
    "- n = número lados del grafo.\n",
    "\n",
    "Lo anterior implica que debemos numerar los lados del grafo. Dicha numeración se hace aleatoriamente, o se puede hacer en secuencia con la lista de lados (edges).\n",
    "\n",
    "Fíjate en el siguiente grafo de ejemplo y la matriz de incidencia asociada cualquier columna tiene exactamente dos elementos a 1:\n",
    "\n",
    "    g2 = st.Graph(7, [(1,4),(0,2), (2,5),(0,1), (1,3), (2,6)])\n",
    "    g2.inc_matrix\n",
    "    \n",
    "    > [[0 1 0 1 0 0]\n",
    "    >  [1 0 0 1 1 0]\n",
    "    >  [0 1 1 0 0 1]\n",
    "    >  [0 0 0 0 1 0]\n",
    "    >  [1 0 0 0 0 0]\n",
    "    >  [0 0 1 0 0 0]\n",
    "    >  [0 0 0 0 0 1]]\n",
    "    "
   ]
  },
  {
   "cell_type": "code",
   "execution_count": null,
   "metadata": {},
   "outputs": [],
   "source": [
    "import networkx as nx\n",
    "import matplotlib.pyplot as plt\n",
    "%matplotlib inline"
   ]
  },
  {
   "cell_type": "code",
   "execution_count": 5,
   "metadata": {},
   "outputs": [
    {
     "name": "stdout",
     "output_type": "stream",
     "text": [
      "Overwriting ./utils/student_function/PS08_04.py\n"
     ]
    }
   ],
   "source": [
    "%%writefile ./utils/student_function/PS08_04.py\n",
    "import numpy as np\n",
    "class Graph:\n",
    "    def __init__(self, num_nodes, edge_list):\n",
    "        assert type(edge_list)==list, \"edge_list must be a list of tuples\"\n",
    "        assert type(num_nodes)==int, \"num_nodes must be an int\"\n",
    "        \n",
    "        for t in edge_list:\n",
    "            assert len(t)==2, \"edge_list must be a list of tuples\"\n",
    "            assert t[0]<num_nodes and t[0]>=0 and t[1]<num_nodes and t[1]>=0, \"edge number not allowed \" + str(t)\n",
    "        \n",
    "        self.num_nodes  = num_nodes\n",
    "        self.inc_matrix = m = np.zeros((num_nodes, len(edge_list)), dtype=int)\n",
    "        \n",
    "        for i in range(m.shape[1]):\n",
    "            m[edge_list[i][0],i] = 1\n",
    "            m[edge_list[i][1],i] = 1"
   ]
  },
  {
   "cell_type": "code",
   "execution_count": 8,
   "metadata": {},
   "outputs": [
    {
     "name": "stdout",
     "output_type": "stream",
     "text": [
      "[[0 1 0 1 0 0]\n",
      " [1 0 0 1 1 0]\n",
      " [0 1 1 0 0 1]\n",
      " [0 0 0 0 1 0]\n",
      " [1 0 0 0 0 0]\n",
      " [0 0 1 0 0 0]\n",
      " [0 0 0 0 0 1]]\n"
     ]
    }
   ],
   "source": [
    "import PS08_04 as st\n",
    "import importlib\n",
    "importlib.reload(st)\n",
    "g2 = st.Graph(7, [(1,4),(0,2), (2,5),(0,1), (1,3), (2,6)])\n",
    "print(g2.inc_matrix)"
   ]
  },
  {
   "cell_type": "code",
   "execution_count": 29,
   "metadata": {},
   "outputs": [
    {
     "name": "stdout",
     "output_type": "stream",
     "text": [
      "[[0 1 0]\n",
      " [1 0 1]\n",
      " [1 0 0]]\n",
      "[[0 1 1]\n",
      " [1 0 0]\n",
      " [0 1 0]]\n"
     ]
    }
   ],
   "source": [
    "import numpy as np\n",
    "from itertools import *\n",
    "k = np.array([[0, 1, 0],\n",
    "       [1, 0, 1],\n",
    "       [1, 0, 0]])\n",
    "print(k)\n",
    "def m1(m):\n",
    "    r = np.copy(m)\n",
    "    for i,j in itertools.product(range(m.shape[0]),range(m.shape[1])):\n",
    "        r[i,j] = m[j,i]\n",
    "    return print(r)\n",
    "\n",
    "m1(k)"
   ]
  },
  {
   "cell_type": "markdown",
   "metadata": {},
   "source": [
    "#### comprueba tu código con el corrector automático"
   ]
  },
  {
   "cell_type": "code",
   "execution_count": 21,
   "metadata": {},
   "outputs": [
    {
     "name": "stdout",
     "output_type": "stream",
     "text": [
      "\r\n",
      "** CORRECTO **\r\n",
      "evaluation result 5.0\r\n"
     ]
    }
   ],
   "source": [
    "!./run CHECK_SOLUTION PS08_04"
   ]
  },
  {
   "cell_type": "markdown",
   "metadata": {},
   "source": [
    "#### registra tu solución en línea"
   ]
  },
  {
   "cell_type": "code",
   "execution_count": 22,
   "metadata": {},
   "outputs": [
    {
     "name": "stdout",
     "output_type": "stream",
     "text": [
      "connecting ... registering submission for sebastian.ruiz8@udea.edu.co ...\n",
      "no config found for section PS08, allowing all submissions\n",
      "your submissions sheet is https://docs.google.com/spreadsheets/d/1WaK6Gr9sKYog5B6r3UnFKCNRUOte1AwPbjkDQg5r3kI\n",
      "\n",
      "** CORRECTO **\n",
      "----\n",
      "evaluation result 5.0 , submission registered\n"
     ]
    }
   ],
   "source": [
    "!./run SUBMIT_SOLUTION PS08_04"
   ]
  },
  {
   "cell_type": "markdown",
   "metadata": {},
   "source": [
    "## Ejercicio 5\n",
    "\n",
    "implementa los métodos siguientes para la clase anterior con matrices de incidencia:\n",
    "\n",
    "- `grade`\n",
    "- `are_adyacent`\n",
    "- `is_valid_trayectory`"
   ]
  },
  {
   "cell_type": "code",
   "execution_count": 4,
   "metadata": {},
   "outputs": [
    {
     "name": "stdout",
     "output_type": "stream",
     "text": [
      "Overwriting ./utils/student_function/PS08_05.py\n"
     ]
    }
   ],
   "source": [
    "%%writefile ./utils/student_function/PS08_05.py\n",
    "import numpy as np\n",
    "class Graph:\n",
    "    def __init__(self, num_nodes, edge_list):\n",
    "        assert type(edge_list)==list, \"edge_list must be a list of tuples\"\n",
    "        assert type(num_nodes)==int, \"num_nodes must be an int\"\n",
    "        \n",
    "        for t in edge_list:\n",
    "            assert len(t)==2, \"edge_list must be a list of tuples\"\n",
    "            assert t[0]<num_nodes and t[0]>=0 and t[1]<num_nodes and t[1]>=0, \"edge number not allowed \" + str(t)\n",
    "        \n",
    "        self.num_nodes  = num_nodes\n",
    "        self.inc_matrix = m = np.zeros((num_nodes, len(edge_list)), dtype=int)\n",
    "        \n",
    "        for i in range(m.shape[1]):\n",
    "            m[edge_list[i][0],i] = 1\n",
    "            m[edge_list[i][1],i] = 1\n",
    "    \n",
    "    def assert_valid_node_number(self, n):\n",
    "        assert n>=0 and n<self.num_nodes, \"invalid node number: %d\"%n        \n",
    "    \n",
    "    def grade(self, node_number):\n",
    "        self.assert_valid_node_number(node_number)\n",
    "        return sum(self.inc_matrix[node_number])\n",
    "    \n",
    "    def are_adyacent(self, node_number_1, node_number_2):\n",
    "        self.assert_valid_node_number(node_number_1)\n",
    "        self.assert_valid_node_number(node_number_2)\n",
    "        \n",
    "        return True if max(self.inc_matrix[node_number_1] + self.inc_matrix[node_number_2]) == 2 else False\n",
    "        \n",
    "    def is_valid_trayectory(self, trayectory):\n",
    "        assert type(trayectory)==list, \"trayectory must be a list\"\n",
    "        for i in range(len(trayectory)-1):\n",
    "            if not self.are_adyacent(trayectory[i],trayectory[i+1]):\n",
    "                return False\n",
    "        return True"
   ]
  },
  {
   "cell_type": "code",
   "execution_count": 24,
   "metadata": {},
   "outputs": [
    {
     "name": "stdout",
     "output_type": "stream",
     "text": [
      "node 0 , grade = 2\n",
      "node 1 , grade = 3\n",
      "node 2 , grade = 3\n",
      "node 3 , grade = 2\n"
     ]
    }
   ],
   "source": [
    "import PS08_05 as st\n",
    "import importlib\n",
    "importlib.reload(st)\n",
    "g1 = st.Graph(4, [(0, 1), (0, 2), (1, 2), (1, 3), (2, 3)])\n",
    "for i in range(g1.num_nodes):\n",
    "    print(\"node\",i, \", grade =\", g1.grade(i))"
   ]
  },
  {
   "cell_type": "code",
   "execution_count": 25,
   "metadata": {},
   "outputs": [
    {
     "name": "stdout",
     "output_type": "stream",
     "text": [
      "True\n",
      "True\n",
      "False\n"
     ]
    }
   ],
   "source": [
    "print(g3.are_adyacent(0,1))\n",
    "print(g3.are_adyacent(3,2))\n",
    "print(g3.are_adyacent(0,3))"
   ]
  },
  {
   "cell_type": "code",
   "execution_count": 26,
   "metadata": {},
   "outputs": [
    {
     "name": "stdout",
     "output_type": "stream",
     "text": [
      "          trayectory    is_valid \n",
      "        [0, 1, 2, 3]       True\n",
      "        [0, 2, 3, 1]      False\n",
      "        [2, 0, 1, 0]       True\n"
     ]
    }
   ],
   "source": [
    "g3 = st.Graph(4, [(0,1), (1,0), (1,2), (2,0), (2,3)])\n",
    "t1 = [ 0, 1, 2, 3]\n",
    "t2 = [ 0, 2, 3,1]\n",
    "t3 = [ 2,0,1,0]\n",
    "print(\"          trayectory    is_valid \")\n",
    "for t in [t1, t2, t3]:\n",
    "    print(\"%20s\"%str(t), \"%10s\"%g3.is_valid_trayectory(t))"
   ]
  },
  {
   "cell_type": "markdown",
   "metadata": {},
   "source": [
    "#### comprueba tu código con el corrector automático"
   ]
  },
  {
   "cell_type": "code",
   "execution_count": 27,
   "metadata": {},
   "outputs": [
    {
     "name": "stdout",
     "output_type": "stream",
     "text": [
      "\n",
      "** CORRECTO **\n",
      "evaluation result 5.0\n"
     ]
    }
   ],
   "source": [
    "!./run CHECK_SOLUTION PS08_05"
   ]
  },
  {
   "cell_type": "markdown",
   "metadata": {},
   "source": [
    "#### registra tu solución en línea"
   ]
  },
  {
   "cell_type": "code",
   "execution_count": 28,
   "metadata": {},
   "outputs": [
    {
     "name": "stdout",
     "output_type": "stream",
     "text": [
      "connecting ... registering submission for sebastian.ruiz8@udea.edu.co ...\n",
      "no config found for section PS08, allowing all submissions\n",
      "your submissions sheet is https://docs.google.com/spreadsheets/d/1WaK6Gr9sKYog5B6r3UnFKCNRUOte1AwPbjkDQg5r3kI\n",
      "\n",
      "** CORRECTO **\n",
      "----\n",
      "evaluation result 5.0 , submission registered\n"
     ]
    }
   ],
   "source": [
    "!./run SUBMIT_SOLUTION PS08_05"
   ]
  },
  {
   "cell_type": "code",
   "execution_count": null,
   "metadata": {},
   "outputs": [],
   "source": []
  }
 ],
 "metadata": {
  "kernelspec": {
   "display_name": "p37",
   "language": "python",
   "name": "python3"
  },
  "language_info": {
   "codemirror_mode": {
    "name": "ipython",
    "version": 3
   },
   "file_extension": ".py",
   "mimetype": "text/x-python",
   "name": "python",
   "nbconvert_exporter": "python",
   "pygments_lexer": "ipython3",
   "version": "3.7.3"
  }
 },
 "nbformat": 4,
 "nbformat_minor": 2
}
