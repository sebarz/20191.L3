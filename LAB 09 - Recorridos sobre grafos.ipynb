{
 "cells": [
  {
   "cell_type": "code",
   "execution_count": 1,
   "metadata": {},
   "outputs": [],
   "source": [
    "!pip install -q oauth2client==1.5.2\n",
    "import sys\n",
    "sys.path.append(\"./utils/student_function/\")\n",
    "import matplotlib.pyplot as plt\n",
    "%matplotlib inline"
   ]
  },
  {
   "cell_type": "code",
   "execution_count": 2,
   "metadata": {},
   "outputs": [
    {
     "name": "stdout",
     "output_type": "stream",
     "text": [
      "CLICK ON THIS LINK TO AUTHENTICATE WITH YOUR GMAIL ACCOUNT\n",
      "https://accounts.google.com/o/oauth2/auth?client_id=486275613361-7nk9ktukfcfjevfoe3tamjp0pmbjmprs.apps.googleusercontent.com&redirect_uri=http%3A%2F%2Flocalhost%3A8080&scope=profile+email&access_type=offline&response_type=code\n",
      "waiting for authentication ...\n",
      "authentication succeeded\n"
     ]
    },
    {
     "data": {
      "text/html": [
       "<table><tr><td><img src='https://lh3.googleusercontent.com/-6drYk1CcCkw/AAAAAAAAAAI/AAAAAAAAAAA/ACHi3rfg8MS7sIUhvebrC6InFGWYXrXAcQ/photo.jpg' width=60 height=60/></td><td>sebastian.ruiz8@udea.edu.co<br/>SEBASTIAN  RUIZ PALACIO<br/>google id: 114687344014261575746<br/>authorization code: 4/rAHj4Wz4bsDQF3vc1bbgjtLL4ZDbAWYYmwETaj5AIc8Z8EBuDJc-2YNwsJXLJJfgvFOUG7vKw2WYgz1NWPKVlqc</td></tr></table>"
      ],
      "text/plain": [
       "<IPython.core.display.HTML object>"
      ]
     },
     "execution_count": 2,
     "metadata": {},
     "output_type": "execute_result"
    }
   ],
   "source": [
    "from mooclib import *\n",
    "import inspect, urllib\n",
    "html, auth_code, userinfo = google_authenticate(PORT_NUMBER=8080)\n",
    "html"
   ]
  },
  {
   "cell_type": "markdown",
   "metadata": {},
   "source": [
    "# Ejercicio 1\n",
    "\n",
    "completa al siguiente función para que dada una especificación de un laberinto como en las notas devuelva las coordenadas de la casilla **`T`**. Por ejemplo:\n",
    "\n",
    "    my_grid = [\".....X\",\n",
    "               \"XX...X\",\n",
    "               \"...X..\",\n",
    "               \".XX..X\",\n",
    "               \".X...T\"]\n",
    "                  \n",
    "    find_target(my_grid)\n",
    "    (4,5)\n",
    "    \n",
    "observa que en la coordenada resultante el primer elemento es la columna y el segundo la fila.\n",
    "\n",
    "**el resultado ha de ser del tipo `tupla`**\n",
    "\n",
    "_sugerencia_: usa la función [`np.argwhere`](https://docs.scipy.org/doc/numpy/reference/generated/numpy.argwhere.html)"
   ]
  },
  {
   "cell_type": "code",
   "execution_count": 75,
   "metadata": {},
   "outputs": [
    {
     "data": {
      "text/plain": [
       "range(0, 5)"
      ]
     },
     "execution_count": 75,
     "metadata": {},
     "output_type": "execute_result"
    }
   ],
   "source": [
    "a = [1,2,3,4,5]\n",
    "hl = np.array(a)\n",
    "range(len(hl))"
   ]
  },
  {
   "cell_type": "code",
   "execution_count": 81,
   "metadata": {},
   "outputs": [
    {
     "name": "stdout",
     "output_type": "stream",
     "text": [
      "(3, 2)\n"
     ]
    }
   ],
   "source": [
    "import numpy as np\n",
    "hola = [\"a\",\"b\",\"ab\",\"abc\"]\n",
    "hol = np.array(hola)\n",
    "for i in range(len(hol)):\n",
    "    for j in range(len(hol[i])):\n",
    "        if hola[i][j] == \"c\":\n",
    "            tupla = i,j\n",
    "print(tupla)\n"
   ]
  },
  {
   "cell_type": "code",
   "execution_count": null,
   "metadata": {},
   "outputs": [],
   "source": []
  },
  {
   "cell_type": "code",
   "execution_count": 92,
   "metadata": {},
   "outputs": [
    {
     "name": "stdout",
     "output_type": "stream",
     "text": [
      "Overwriting ./utils/student_function/PS09_01.py\n"
     ]
    }
   ],
   "source": [
    "%%writefile ./utils/student_function/PS09_01.py\n",
    "import numpy as np\n",
    "def find_target(grid):\n",
    "    laberinto = np.array(grid)\n",
    "    for i in range(len(laberinto)):\n",
    "        for j in range(len(laberinto[i])):\n",
    "            if laberinto[i][j] == \"T\":\n",
    "                target = i,j\n",
    "                return target\n"
   ]
  },
  {
   "cell_type": "markdown",
   "metadata": {},
   "source": [
    "comprueba tu código"
   ]
  },
  {
   "cell_type": "code",
   "execution_count": 93,
   "metadata": {},
   "outputs": [
    {
     "data": {
      "text/plain": [
       "(4, 5)"
      ]
     },
     "execution_count": 93,
     "metadata": {},
     "output_type": "execute_result"
    }
   ],
   "source": [
    "import PS09_01 as st\n",
    "import importlib\n",
    "importlib.reload(st)\n",
    "my_grid = [\".....X\",\n",
    "        \"XX...X\",\n",
    "        \"...X..\",\n",
    "        \".XX..X\",\n",
    "        \".X...T\"]\n",
    "\n",
    "st.find_target(my_grid)"
   ]
  },
  {
   "cell_type": "markdown",
   "metadata": {},
   "source": [
    "#### evaluate your answer before submitting:"
   ]
  },
  {
   "cell_type": "code",
   "execution_count": 94,
   "metadata": {},
   "outputs": [
    {
     "name": "stdout",
     "output_type": "stream",
     "text": [
      "\r\n",
      "** CORRECTO **\r\n",
      "evaluation result 5.0\r\n"
     ]
    }
   ],
   "source": [
    "!./run CHECK_SOLUTION PS09_01 "
   ]
  },
  {
   "cell_type": "markdown",
   "metadata": {},
   "source": [
    "#### submit your answer (you must be connected to internet)"
   ]
  },
  {
   "cell_type": "code",
   "execution_count": 95,
   "metadata": {},
   "outputs": [
    {
     "name": "stdout",
     "output_type": "stream",
     "text": [
      "connecting ... registering submission for sebastian.ruiz8@udea.edu.co ...\n",
      "no config found for section PS09, allowing all submissions\n",
      "your submissions sheet is https://docs.google.com/spreadsheets/d/1WaK6Gr9sKYog5B6r3UnFKCNRUOte1AwPbjkDQg5r3kI\n",
      "\n",
      "** CORRECTO **\n",
      "----\n",
      "evaluation result 5.0 , submission registered\n"
     ]
    }
   ],
   "source": [
    "!./run SUBMIT_SOLUTION PS09_01 "
   ]
  },
  {
   "cell_type": "markdown",
   "metadata": {},
   "source": [
    "# Ejercicio 2\n",
    "\n",
    "completa la siguiente clase para que implemente una cola con prioridades de forma que:\n",
    "\n",
    "- el método `put` añada elemnetos asociados a una prioridad\n",
    "- cada vez que se invoque el método `get` devuelva el elemento con la prioridad **más baja** y lo elimine de la cola.\n",
    "- si la cola no tiene elementos el método `get` ha de devolver `None`\n",
    "- el método `empty` ha de devolver `True` si la cola no tiene elementos y `False` si tiene alguno"
   ]
  },
  {
   "cell_type": "code",
   "execution_count": 99,
   "metadata": {},
   "outputs": [
    {
     "ename": "TypeError",
     "evalue": "'builtin_function_or_method' object is not iterable",
     "output_type": "error",
     "traceback": [
      "\u001b[0;31m---------------------------------------------------------------------------\u001b[0m",
      "\u001b[0;31mTypeError\u001b[0m                                 Traceback (most recent call last)",
      "\u001b[0;32m<ipython-input-99-d4e5c8b2837b>\u001b[0m in \u001b[0;36m<module>\u001b[0;34m\u001b[0m\n\u001b[1;32m      1\u001b[0m \u001b[0mhola\u001b[0m \u001b[0;34m=\u001b[0m \u001b[0;34m[\u001b[0m\u001b[0;34m]\u001b[0m\u001b[0;34m\u001b[0m\u001b[0;34m\u001b[0m\u001b[0m\n\u001b[0;32m----> 2\u001b[0;31m \u001b[0mprint\u001b[0m\u001b[0;34m(\u001b[0m\u001b[0mlist\u001b[0m\u001b[0;34m(\u001b[0m\u001b[0mhola\u001b[0m\u001b[0;34m.\u001b[0m\u001b[0mcount\u001b[0m\u001b[0;34m)\u001b[0m\u001b[0;34m)\u001b[0m\u001b[0;34m\u001b[0m\u001b[0;34m\u001b[0m\u001b[0m\n\u001b[0m",
      "\u001b[0;31mTypeError\u001b[0m: 'builtin_function_or_method' object is not iterable"
     ]
    }
   ],
   "source": []
  },
  {
   "cell_type": "code",
   "execution_count": 147,
   "metadata": {},
   "outputs": [
    {
     "data": {
      "text/plain": [
       "0"
      ]
     },
     "execution_count": 147,
     "metadata": {},
     "output_type": "execute_result"
    }
   ],
   "source": [
    "a = [1,2,3,4,5,1]\n",
    "a.index(1)"
   ]
  },
  {
   "cell_type": "code",
   "execution_count": 150,
   "metadata": {},
   "outputs": [
    {
     "name": "stdout",
     "output_type": "stream",
     "text": [
      "Overwriting ./utils/student_function/PS09_02.py\n"
     ]
    }
   ],
   "source": [
    "%%writefile ./utils/student_function/PS09_02.py\n",
    "def PriorityQueue():\n",
    "    class _PriorityQueue:\n",
    "        def __init__(self):\n",
    "            self.items = []\n",
    "            self.priority = []\n",
    "            \n",
    "        def empty(self):\n",
    "            return True if len(self.elements) == 0 else False\n",
    "\n",
    "        def put(self, item, priority):\n",
    "            self.items.append(item)\n",
    "            self.priority.append(priority)\n",
    "\n",
    "        def get(self):\n",
    "            menor = []\n",
    "            return menor\n",
    "        \n",
    "    return _PriorityQueue()\n"
   ]
  },
  {
   "cell_type": "markdown",
   "metadata": {},
   "source": [
    "verifica tu código. el siguiente ejemplo debe de recuperar los elementos en el siguiente orden:\n",
    "\n",
    "        c \n",
    "        a\n",
    "        b \n",
    "        None"
   ]
  },
  {
   "cell_type": "code",
   "execution_count": 151,
   "metadata": {},
   "outputs": [
    {
     "ename": "ValueError",
     "evalue": "'c' is not in list",
     "output_type": "error",
     "traceback": [
      "\u001b[0;31m---------------------------------------------------------------------------\u001b[0m",
      "\u001b[0;31mValueError\u001b[0m                                Traceback (most recent call last)",
      "\u001b[0;32m<ipython-input-151-8ee822404847>\u001b[0m in \u001b[0;36m<module>\u001b[0;34m\u001b[0m\n\u001b[1;32m      8\u001b[0m \u001b[0mq\u001b[0m\u001b[0;34m.\u001b[0m\u001b[0mput\u001b[0m\u001b[0;34m(\u001b[0m\u001b[0;34m\"c\"\u001b[0m\u001b[0;34m,\u001b[0m \u001b[0;36m15\u001b[0m\u001b[0;34m)\u001b[0m\u001b[0;34m\u001b[0m\u001b[0;34m\u001b[0m\u001b[0m\n\u001b[1;32m      9\u001b[0m \u001b[0;34m\u001b[0m\u001b[0m\n\u001b[0;32m---> 10\u001b[0;31m \u001b[0mprint\u001b[0m\u001b[0;34m(\u001b[0m\u001b[0mq\u001b[0m\u001b[0;34m.\u001b[0m\u001b[0mget\u001b[0m\u001b[0;34m(\u001b[0m\u001b[0;34m)\u001b[0m\u001b[0;34m)\u001b[0m\u001b[0;34m\u001b[0m\u001b[0;34m\u001b[0m\u001b[0m\n\u001b[0m\u001b[1;32m     11\u001b[0m \u001b[0mprint\u001b[0m\u001b[0;34m(\u001b[0m\u001b[0mq\u001b[0m\u001b[0;34m.\u001b[0m\u001b[0mget\u001b[0m\u001b[0;34m(\u001b[0m\u001b[0;34m)\u001b[0m\u001b[0;34m)\u001b[0m\u001b[0;34m\u001b[0m\u001b[0;34m\u001b[0m\u001b[0m\n\u001b[1;32m     12\u001b[0m \u001b[0mprint\u001b[0m\u001b[0;34m(\u001b[0m\u001b[0mq\u001b[0m\u001b[0;34m.\u001b[0m\u001b[0mget\u001b[0m\u001b[0;34m(\u001b[0m\u001b[0;34m)\u001b[0m\u001b[0;34m)\u001b[0m\u001b[0;34m\u001b[0m\u001b[0;34m\u001b[0m\u001b[0m\n",
      "\u001b[0;32m~/share/20191.L3/utils/student_function/PS09_02.py\u001b[0m in \u001b[0;36mget\u001b[0;34m(self)\u001b[0m\n\u001b[1;32m     14\u001b[0m         \u001b[0;32mdef\u001b[0m \u001b[0mget\u001b[0m\u001b[0;34m(\u001b[0m\u001b[0mself\u001b[0m\u001b[0;34m)\u001b[0m\u001b[0;34m:\u001b[0m\u001b[0;34m\u001b[0m\u001b[0;34m\u001b[0m\u001b[0m\n\u001b[1;32m     15\u001b[0m             \u001b[0midx_menor\u001b[0m \u001b[0;34m=\u001b[0m \u001b[0mself\u001b[0m\u001b[0;34m.\u001b[0m\u001b[0mpriority\u001b[0m\u001b[0;34m.\u001b[0m\u001b[0mindex\u001b[0m\u001b[0;34m(\u001b[0m\u001b[0mmin\u001b[0m\u001b[0;34m(\u001b[0m\u001b[0mself\u001b[0m\u001b[0;34m.\u001b[0m\u001b[0mpriority\u001b[0m\u001b[0;34m)\u001b[0m\u001b[0;34m)\u001b[0m\u001b[0;34m\u001b[0m\u001b[0;34m\u001b[0m\u001b[0m\n\u001b[0;32m---> 16\u001b[0;31m             \u001b[0mmenor\u001b[0m \u001b[0;34m=\u001b[0m \u001b[0mself\u001b[0m\u001b[0;34m.\u001b[0m\u001b[0mpriority\u001b[0m\u001b[0;34m.\u001b[0m\u001b[0mindex\u001b[0m\u001b[0;34m(\u001b[0m\u001b[0mself\u001b[0m\u001b[0;34m.\u001b[0m\u001b[0mitems\u001b[0m\u001b[0;34m[\u001b[0m\u001b[0midx_menor\u001b[0m\u001b[0;34m]\u001b[0m\u001b[0;34m)\u001b[0m\u001b[0;34m\u001b[0m\u001b[0;34m\u001b[0m\u001b[0m\n\u001b[0m\u001b[1;32m     17\u001b[0m             \u001b[0mself\u001b[0m\u001b[0;34m.\u001b[0m\u001b[0mitems\u001b[0m\u001b[0;34m.\u001b[0m\u001b[0mremove\u001b[0m\u001b[0;34m(\u001b[0m\u001b[0mmenor\u001b[0m\u001b[0;34m)\u001b[0m\u001b[0;34m\u001b[0m\u001b[0;34m\u001b[0m\u001b[0m\n\u001b[1;32m     18\u001b[0m             \u001b[0mself\u001b[0m\u001b[0;34m.\u001b[0m\u001b[0mpriority\u001b[0m\u001b[0;34m.\u001b[0m\u001b[0mremove\u001b[0m\u001b[0;34m(\u001b[0m\u001b[0mmenor\u001b[0m\u001b[0;34m)\u001b[0m\u001b[0;34m\u001b[0m\u001b[0;34m\u001b[0m\u001b[0m\n",
      "\u001b[0;31mValueError\u001b[0m: 'c' is not in list"
     ]
    }
   ],
   "source": [
    "import PS09_02 as st\n",
    "import importlib\n",
    "importlib.reload(st)\n",
    "q = st.PriorityQueue()\n",
    "\n",
    "q.put(\"a\", 20)\n",
    "q.put(\"b\", 30)\n",
    "q.put(\"c\", 15)\n",
    "\n",
    "print(q.get())\n",
    "print(q.get())\n",
    "print(q.get())\n",
    "print(q.get())"
   ]
  },
  {
   "cell_type": "markdown",
   "metadata": {},
   "source": [
    "#### evaluate your answer before submitting:"
   ]
  },
  {
   "cell_type": "code",
   "execution_count": null,
   "metadata": {},
   "outputs": [],
   "source": [
    "!./run CHECK_SOLUTION PS09_02 "
   ]
  },
  {
   "cell_type": "markdown",
   "metadata": {},
   "source": [
    "#### submit your answer (you must be connected to internet)"
   ]
  },
  {
   "cell_type": "code",
   "execution_count": null,
   "metadata": {},
   "outputs": [],
   "source": [
    "!./run SUBMIT_SOLUTION PS09_02 "
   ]
  },
  {
   "cell_type": "markdown",
   "metadata": {},
   "source": [
    "# Ejercicio 3\n",
    "\n",
    "observa el algoritmo de búsqueda **`cost_search`** que devuelve dos estructuras:\n",
    "\n",
    "- **`paths`**: un diccionario en el que, para cada posición, indica desde qué posición anterior se llegó con el menor coste desde la **posición inicial (0,0)**.\n",
    "- **`costs`**: un diccionario en el que, para cada posición, indica cual es el menor coste de los posibles caminos para llegar a dicha posición.\n",
    "\n",
    "**Definición**: el coste de un camino es la longitud del mismo\n",
    "\n",
    "Observa como, desde **`paths`**, se puede recuperar el camino de menor coste a cualquier posición empezando desde un target dado un *caminando hacia atrás*.\n",
    "\n",
    "P.ej. desde al target (2,4) (esquina inferior derecha), se llega desde el (2,3), y a este desde el (2,2), y a este desde el (1,2), y a este desde el (0,2) y a este desde el (0,1) y a este desde el (0,0). Con lo que el camino completo desde el (0,0) es el siguiente:\n",
    "\n",
    "    (0,0), (0,1), (0,2), (1,2), (2,2), (2,3), (2,4)\n",
    "    \n",
    "con un coste de 6."
   ]
  },
  {
   "cell_type": "code",
   "execution_count": null,
   "metadata": {},
   "outputs": [],
   "source": [
    "import pandas as pd\n",
    "import numpy as np\n",
    "EMPTY, WALL, TARGET, USED = \".\",\"X\",\"T\",\"o\"\n",
    "c  = pd.Series({\"EMPTY\": \".\", \"WALL\":\"X\", \"TARGET\":\"T\", \"USED\":\"o\"})\n",
    "ci = pd.Series({\".\": 0, \"X\": 255, \"T\":100, \"o\":200})\n",
    "\n",
    "\n",
    "def possible_moves(grid, y,x):\n",
    "    moves = [ [y,x+1], [y-1,x], [y,x-1], [y+1,x]]\n",
    "\n",
    "    moves = [(my,mx) for my,mx in moves if mx>=0 and mx<len(grid[0]) and \\\n",
    "                                           my>=0 and my<len(grid) and grid[my][mx]!=c.WALL]\n",
    "    return moves\n",
    "\n",
    "def cost_search(grid):\n",
    "    import PS09_02 as st\n",
    "    start = (0,0)\n",
    "    step_cost = 1\n",
    "    frontier = st.PriorityQueue()\n",
    "    frontier.put(start, 0)\n",
    "    came_from   = {}\n",
    "    cost_so_far = {}\n",
    "    came_from[start]   = None\n",
    "    cost_so_far[start] = 0\n",
    "\n",
    "    while not frontier.empty():\n",
    "        current = frontier.get()\n",
    "        y,x = current\n",
    "        if grid[y][x] == c.TARGET:\n",
    "            break\n",
    "\n",
    "        for next in possible_moves(grid,y,x):\n",
    "            new_cost = cost_so_far[current] + step_cost\n",
    "            if next not in cost_so_far or new_cost < cost_so_far[next]:\n",
    "                cost_so_far[next] = new_cost\n",
    "                priority = new_cost\n",
    "                frontier.put(next, priority)\n",
    "                came_from[next] = current\n",
    "\n",
    "    return came_from, cost_so_far"
   ]
  },
  {
   "cell_type": "markdown",
   "metadata": {},
   "source": [
    "Completa la función **`recover_path`** más abajo para que dado `paths`, `costs` y una tupla representando una posición `target` devuelva\n",
    "\n",
    "- el camino especificado en `paths` para llegar a `target`\n",
    "- el coste del mismo\n",
    "\n",
    "por ejemplo, con los valores del ejemplo anterior:\n",
    "\n",
    "    > camino, coste = recover_path(path, cost, (2,4))\n",
    "    > print camino\n",
    "    > print coste\n",
    "    \n",
    "    [(0, 0), (0, 1), (0, 2), (1, 2), (2, 2), (2, 3), (2, 4)]\n",
    "    6"
   ]
  },
  {
   "cell_type": "code",
   "execution_count": null,
   "metadata": {},
   "outputs": [],
   "source": [
    "my_grid = [\"....X\",\n",
    "           \"XX.XX\",\n",
    "           \".X..T\"]\n",
    "\n",
    "path, cost = cost_search(my_grid)"
   ]
  },
  {
   "cell_type": "code",
   "execution_count": null,
   "metadata": {},
   "outputs": [],
   "source": [
    "path"
   ]
  },
  {
   "cell_type": "code",
   "execution_count": null,
   "metadata": {},
   "outputs": [],
   "source": [
    "cost"
   ]
  },
  {
   "cell_type": "markdown",
   "metadata": {},
   "source": [
    "### completa esta función"
   ]
  },
  {
   "cell_type": "code",
   "execution_count": null,
   "metadata": {},
   "outputs": [],
   "source": [
    "%%writefile ./utils/student_function/PS09_03.py\n",
    "def recover_path(path, cost, target):\n",
    "    # tu cosdigo aqui\n",
    "    camino = ...\n",
    "    coste  = ...\n",
    "    return camino, coste\n"
   ]
  },
  {
   "cell_type": "markdown",
   "metadata": {},
   "source": [
    "prueba tu código"
   ]
  },
  {
   "cell_type": "code",
   "execution_count": null,
   "metadata": {},
   "outputs": [],
   "source": [
    "import PS09_03 as st\n",
    "import importlib\n",
    "importlib.reload(st)\n",
    "camino, coste = st.recover_path(path, cost, (2,4))\n",
    "print(camino)\n",
    "print(coste)"
   ]
  },
  {
   "cell_type": "markdown",
   "metadata": {},
   "source": [
    "#### evaluate your answer before submitting:"
   ]
  },
  {
   "cell_type": "code",
   "execution_count": null,
   "metadata": {},
   "outputs": [],
   "source": [
    "!./run CHECK_SOLUTION PS09_03 "
   ]
  },
  {
   "cell_type": "markdown",
   "metadata": {},
   "source": [
    "#### submit your answer (you must be connected to internet)"
   ]
  },
  {
   "cell_type": "code",
   "execution_count": null,
   "metadata": {},
   "outputs": [],
   "source": [
    "!./run SUBMIT_SOLUTION PS09_03 "
   ]
  },
  {
   "cell_type": "code",
   "execution_count": null,
   "metadata": {},
   "outputs": [],
   "source": []
  }
 ],
 "metadata": {
  "kernelspec": {
   "display_name": "p37",
   "language": "python",
   "name": "python3"
  },
  "language_info": {
   "codemirror_mode": {
    "name": "ipython",
    "version": 3
   },
   "file_extension": ".py",
   "mimetype": "text/x-python",
   "name": "python",
   "nbconvert_exporter": "python",
   "pygments_lexer": "ipython3",
   "version": "3.7.3"
  }
 },
 "nbformat": 4,
 "nbformat_minor": 2
}
