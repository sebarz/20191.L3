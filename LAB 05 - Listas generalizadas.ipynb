{
 "cells": [
  {
   "cell_type": "code",
   "execution_count": 1,
   "metadata": {},
   "outputs": [],
   "source": [
    "!pip install -q oauth2client==1.5.2\n",
    "import sys\n",
    "sys.path.append(\"./utils/student_function/\")"
   ]
  },
  {
   "cell_type": "code",
   "execution_count": 2,
   "metadata": {},
   "outputs": [
    {
     "name": "stdout",
     "output_type": "stream",
     "text": [
      "CLICK ON THIS LINK TO AUTHENTICATE WITH YOUR GMAIL ACCOUNT\n",
      "https://accounts.google.com/o/oauth2/auth?client_id=486275613361-7nk9ktukfcfjevfoe3tamjp0pmbjmprs.apps.googleusercontent.com&redirect_uri=http%3A%2F%2Flocalhost%3A8080&scope=profile+email&access_type=offline&response_type=code\n",
      "waiting for authentication ...\n",
      "authentication succeeded\n"
     ]
    },
    {
     "data": {
      "text/html": [
       "<table><tr><td><img src='https://lh5.googleusercontent.com/-xN3DF-95EOA/AAAAAAAAAAI/AAAAAAAAAAA/ACHi3reupoW0GKo4rc-kdEAyMfMw6k9lfA/photo.jpg' width=60 height=60/></td><td>kevin.camona@udea.edu.co<br/>KEVIN FERNANDO CARMONA ANGEL<br/>google id: 114824301760525414624<br/>authorization code: 4/qgFq5xdw1nUKTnQE6rjCJmbUK7fAW-50nODTZGEVspCf-ohBgzoWX1pd3_FNcy2OOyXDLK4NR00yC0HvDFigWuM</td></tr></table>"
      ],
      "text/plain": [
       "<IPython.core.display.HTML object>"
      ]
     },
     "execution_count": 2,
     "metadata": {},
     "output_type": "execute_result"
    }
   ],
   "source": [
    "from mooclib import *\n",
    "import inspect, urllib\n",
    "html, auth_code, userinfo = google_authenticate(PORT_NUMBER=8080)\n",
    "html"
   ]
  },
  {
   "cell_type": "markdown",
   "metadata": {},
   "source": [
    "En estos ejercicios usaremos las clases `Node` y `L`. Ejecuta la siguiente celda para cargar sus definiciones"
   ]
  },
  {
   "cell_type": "code",
   "execution_count": 58,
   "metadata": {},
   "outputs": [
    {
     "name": "stdout",
     "output_type": "stream",
     "text": [
      "Overwriting ./utils/student_function/PS05.py\n"
     ]
    }
   ],
   "source": [
    "%%writefile ./utils/student_function/PS05.py\n",
    "class Node:\n",
    "    def __init__(self, value, next=None):\n",
    "        assert next is None or isinstance(next,Node), \"next must be Node, not %s\"%(type(next))\n",
    "        self.value = value\n",
    "        self.next  = next\n",
    "        \n",
    "    def __repr__(self):\n",
    "        return str(self.value)\n",
    "    \n",
    "class L(object):\n",
    "    def __init__ (self, first_node=None):\n",
    "        assert first_node is None or isinstance(first_node,Node), \"first must be Node, not %s\"%(type(first_node))\n",
    "        self.first_node = first_node\n",
    "        \n",
    "    def __getitem__(self, idx):\n",
    "        k = self.first_node\n",
    "        for i in range(idx):\n",
    "            assert k.next is not None, \"index %s out of range\"%(str(idx))\n",
    "            k = k.next  \n",
    "        return k.value\n",
    "    \n",
    "    def __len__(self):\n",
    "        k = self.first_node\n",
    "        if k is None:\n",
    "            return 0\n",
    "        i=1\n",
    "        while k.next is not None:\n",
    "            i+=1\n",
    "            k = k.next\n",
    "        return i\n",
    "            \n",
    "    def __repr__ (self):\n",
    "        if self.first_node is None:\n",
    "            return \"[]\"\n",
    "        \n",
    "        s = \"[ %s\"%self.first_node\n",
    "        k=self.first_node\n",
    "        while (k.next is not None):\n",
    "            s += \", %s\"%k.next\n",
    "            k = k.next\n",
    "    \n",
    "        return s+\" ]\""
   ]
  },
  {
   "cell_type": "markdown",
   "metadata": {},
   "source": [
    "## Ejercicio 1\n",
    "\n",
    "Implementa el método `__getitem__` para que funcione con índices positivos y negativos. Por ejemplo:\n",
    "\n",
    "    > W = L1(Node(10, Node(20, Node(30))))\n",
    "    > print W\n",
    "    [ 10, 20, 30 ]\n",
    "\n",
    "    > print W[0], W[1], W[2]\n",
    "    > print W[-1], W[-2], W[-3]\n",
    "    10 20 30\n",
    "    30 20 10\n",
    "\n",
    "Ten en cuenta los casos en los que el índice excede el tamaño de la lista, bien positivo bien negativo. **En estos casos has de generar un assertion error**. \n",
    "\n",
    "En el ejemplo anterior, `W[3]` y `W[-4]` deben de generar un `AssertionError`"
   ]
  },
  {
   "cell_type": "code",
   "execution_count": 59,
   "metadata": {},
   "outputs": [
    {
     "name": "stdout",
     "output_type": "stream",
     "text": [
      "Overwriting ./utils/student_function/PS05_01.py\n"
     ]
    }
   ],
   "source": [
    "%%writefile ./utils/student_function/PS05_01.py\n",
    "from PS05 import *\n",
    "class L1(L):\n",
    "    def __getitem__(self, idx):\n",
    "        idx = idx if idx>=0 else len(self) - abs(idx)\n",
    "        k = self.first_node\n",
    "        for i in range(idx):\n",
    "            assert k.next is not None, \"index %s out of range\"\"%(str(idx))\"\n",
    "            k = k.next\n",
    "            \n",
    "        return k.value"
   ]
  },
  {
   "cell_type": "markdown",
   "metadata": {},
   "source": [
    "comprueba manualmente tu código"
   ]
  },
  {
   "cell_type": "code",
   "execution_count": 9,
   "metadata": {},
   "outputs": [
    {
     "name": "stdout",
     "output_type": "stream",
     "text": [
      "[ 10, 20, 30 ]\n"
     ]
    }
   ],
   "source": [
    "from PS05 import *\n",
    "import PS05_01 as st\n",
    "import importlib\n",
    "importlib.reload(st)\n",
    "\n",
    "W = st.L1(Node(10, Node(20, Node(30))))\n",
    "print(W)"
   ]
  },
  {
   "cell_type": "code",
   "execution_count": 10,
   "metadata": {},
   "outputs": [
    {
     "name": "stdout",
     "output_type": "stream",
     "text": [
      "10 20 30\n",
      "30 20 10\n"
     ]
    }
   ],
   "source": [
    "print(W[0], W[1], W[2])\n",
    "print(W[-1], W[-2], W[-3])"
   ]
  },
  {
   "cell_type": "code",
   "execution_count": 11,
   "metadata": {},
   "outputs": [
    {
     "ename": "AssertionError",
     "evalue": "index %s out of range%(str(idx))",
     "output_type": "error",
     "traceback": [
      "\u001b[0;31m---------------------------------------------------------------------------\u001b[0m",
      "\u001b[0;31mAssertionError\u001b[0m                            Traceback (most recent call last)",
      "\u001b[0;32m<ipython-input-11-95b8a942dd97>\u001b[0m in \u001b[0;36m<module>\u001b[0;34m\u001b[0m\n\u001b[0;32m----> 1\u001b[0;31m \u001b[0mprint\u001b[0m\u001b[0;34m(\u001b[0m\u001b[0mW\u001b[0m\u001b[0;34m[\u001b[0m\u001b[0;36m3\u001b[0m\u001b[0;34m]\u001b[0m\u001b[0;34m)\u001b[0m\u001b[0;34m\u001b[0m\u001b[0;34m\u001b[0m\u001b[0m\n\u001b[0m",
      "\u001b[0;32m~/share/20191.L3/utils/student_function/PS05_01.py\u001b[0m in \u001b[0;36m__getitem__\u001b[0;34m(self, idx)\u001b[0m\n\u001b[1;32m      5\u001b[0m         \u001b[0mk\u001b[0m \u001b[0;34m=\u001b[0m \u001b[0mself\u001b[0m\u001b[0;34m.\u001b[0m\u001b[0mfirst_node\u001b[0m\u001b[0;34m\u001b[0m\u001b[0;34m\u001b[0m\u001b[0m\n\u001b[1;32m      6\u001b[0m         \u001b[0;32mfor\u001b[0m \u001b[0mi\u001b[0m \u001b[0;32min\u001b[0m \u001b[0mrange\u001b[0m\u001b[0;34m(\u001b[0m\u001b[0midx\u001b[0m\u001b[0;34m)\u001b[0m\u001b[0;34m:\u001b[0m\u001b[0;34m\u001b[0m\u001b[0;34m\u001b[0m\u001b[0m\n\u001b[0;32m----> 7\u001b[0;31m             \u001b[0;32massert\u001b[0m \u001b[0mk\u001b[0m\u001b[0;34m.\u001b[0m\u001b[0mnext\u001b[0m \u001b[0;32mis\u001b[0m \u001b[0;32mnot\u001b[0m \u001b[0;32mNone\u001b[0m\u001b[0;34m,\u001b[0m \u001b[0;34m\"index %s out of range\"\u001b[0m\u001b[0;34m\"%(str(idx))\"\u001b[0m\u001b[0;34m\u001b[0m\u001b[0;34m\u001b[0m\u001b[0m\n\u001b[0m\u001b[1;32m      8\u001b[0m             \u001b[0mk\u001b[0m \u001b[0;34m=\u001b[0m \u001b[0mk\u001b[0m\u001b[0;34m.\u001b[0m\u001b[0mnext\u001b[0m\u001b[0;34m\u001b[0m\u001b[0;34m\u001b[0m\u001b[0m\n\u001b[1;32m      9\u001b[0m \u001b[0;34m\u001b[0m\u001b[0m\n",
      "\u001b[0;31mAssertionError\u001b[0m: index %s out of range%(str(idx))"
     ]
    }
   ],
   "source": [
    "print(W[3])"
   ]
  },
  {
   "cell_type": "code",
   "execution_count": 12,
   "metadata": {},
   "outputs": [
    {
     "name": "stdout",
     "output_type": "stream",
     "text": [
      "10\n"
     ]
    }
   ],
   "source": [
    "print(W[-4])"
   ]
  },
  {
   "cell_type": "markdown",
   "metadata": {},
   "source": [
    "#### comprueba tu código con el corrector automático"
   ]
  },
  {
   "cell_type": "code",
   "execution_count": 13,
   "metadata": {},
   "outputs": [
    {
     "name": "stdout",
     "output_type": "stream",
     "text": [
      "\r\n",
      "** CORRECTO **\r\n",
      "evaluation result 5.0\r\n"
     ]
    }
   ],
   "source": [
    "!./run CHECK_SOLUTION PS05_01"
   ]
  },
  {
   "cell_type": "markdown",
   "metadata": {},
   "source": [
    "#### registra tu solución en línea"
   ]
  },
  {
   "cell_type": "code",
   "execution_count": 14,
   "metadata": {
    "scrolled": true
   },
   "outputs": [
    {
     "name": "stdout",
     "output_type": "stream",
     "text": [
      "connecting ... registering submission for kevin.camona@udea.edu.co ...\n",
      "no config found for section PS05, allowing all submissions\n",
      "your submissions sheet is https://docs.google.com/spreadsheets/d/1rCu3I1dX6h55fUJIeiqXEjx8CIOvsKz_nGHHR3I5Pcg\n",
      "\n",
      "** CORRECTO **\n",
      "----\n",
      "evaluation result 5.0 , submission registered\n"
     ]
    }
   ],
   "source": [
    "!./run SUBMIT_SOLUTION PS05_01"
   ]
  },
  {
   "cell_type": "code",
   "execution_count": null,
   "metadata": {},
   "outputs": [],
   "source": []
  },
  {
   "cell_type": "markdown",
   "metadata": {},
   "source": [
    "## Ejercicio 2\n",
    "\n",
    "Implementa una función `__setitem__` que también soporte índices negativos. Por ejemplo:\n",
    "\n",
    "    W = L2(Node(10, Node(20, Node(30))))\n",
    "    print W\n",
    "    [ 10, 20, 30 ]\n",
    "\n",
    "    W[1]=25\n",
    "    print W\n",
    "    [ 10, 25, 30 ]\n",
    "\n",
    "    W[-1]=35\n",
    "    print W\n",
    "    [ 10, 25, 35 ]\n"
   ]
  },
  {
   "cell_type": "code",
   "execution_count": 60,
   "metadata": {},
   "outputs": [
    {
     "name": "stdout",
     "output_type": "stream",
     "text": [
      "Overwriting ./utils/student_function/PS05_02.py\n"
     ]
    }
   ],
   "source": [
    "%%writefile ./utils/student_function/PS05_02.py\n",
    "from PS05 import *\n",
    "class L2(L):\n",
    "    def __setitem__(self, idx, value):\n",
    "        idx = idx if idx>=0 else len(self) - abs(idx)\n",
    "        k = self.first_node\n",
    "        for i in range(idx):\n",
    "            assert k.next is not None, \"index %s out of range\"\"%(str(idx))\"\n",
    "            k = k.next\n",
    "            \n",
    "        k.value = value"
   ]
  },
  {
   "cell_type": "code",
   "execution_count": 22,
   "metadata": {},
   "outputs": [
    {
     "name": "stdout",
     "output_type": "stream",
     "text": [
      "[ 10, 20, 30 ]\n"
     ]
    }
   ],
   "source": [
    "from PS05 import *\n",
    "import PS05_02 as st\n",
    "import importlib\n",
    "importlib.reload(st)\n",
    "\n",
    "W = st.L2(Node(10, Node(20, Node(30))))\n",
    "print(W)"
   ]
  },
  {
   "cell_type": "code",
   "execution_count": 23,
   "metadata": {},
   "outputs": [
    {
     "name": "stdout",
     "output_type": "stream",
     "text": [
      "[ 10, 25, 30 ]\n"
     ]
    }
   ],
   "source": [
    "W[1]=25\n",
    "print(W)"
   ]
  },
  {
   "cell_type": "code",
   "execution_count": 24,
   "metadata": {},
   "outputs": [
    {
     "name": "stdout",
     "output_type": "stream",
     "text": [
      "[ 10, 25, 35 ]\n"
     ]
    }
   ],
   "source": [
    "W[-1]=35\n",
    "print(W)"
   ]
  },
  {
   "cell_type": "markdown",
   "metadata": {},
   "source": [
    "#### comprueba tu código con el corrector automático"
   ]
  },
  {
   "cell_type": "code",
   "execution_count": 25,
   "metadata": {},
   "outputs": [
    {
     "name": "stdout",
     "output_type": "stream",
     "text": [
      "\r\n",
      "** CORRECTO **\r\n",
      "evaluation result 5.0\r\n"
     ]
    }
   ],
   "source": [
    "!./run CHECK_SOLUTION PS05_02"
   ]
  },
  {
   "cell_type": "markdown",
   "metadata": {},
   "source": [
    "#### registra tu solución en línea"
   ]
  },
  {
   "cell_type": "code",
   "execution_count": 26,
   "metadata": {
    "scrolled": false
   },
   "outputs": [
    {
     "name": "stdout",
     "output_type": "stream",
     "text": [
      "connecting ... registering submission for kevin.camona@udea.edu.co ...\n",
      "no config found for section PS05, allowing all submissions\n",
      "your submissions sheet is https://docs.google.com/spreadsheets/d/1rCu3I1dX6h55fUJIeiqXEjx8CIOvsKz_nGHHR3I5Pcg\n",
      "\n",
      "** CORRECTO **\n",
      "Traceback (most recent call last):\n",
      "  File \"/home/user/.conda/envs/p37/lib/python3.7/site-packages/ntplib.py\", line 311, in request\n",
      "    response_packet, src_addr = s.recvfrom(256)\n",
      "socket.timeout: timed out\n",
      "\n",
      "During handling of the above exception, another exception occurred:\n",
      "\n",
      "Traceback (most recent call last):\n",
      "  File \"<stdin>\", line 701, in <module>\n",
      "  File \"<stdin>\", line 111, in get_localized_inet_time\n",
      "  File \"/home/user/.conda/envs/p37/lib/python3.7/site-packages/ntplib.py\", line 316, in request\n",
      "    raise NTPException(\"No response received from %s.\" % host)\n",
      "ntplib.NTPException: No response received from 0.europe.pool.ntp.org.\n",
      "call error\n"
     ]
    }
   ],
   "source": [
    "!./run SUBMIT_SOLUTION PS05_02"
   ]
  },
  {
   "cell_type": "code",
   "execution_count": null,
   "metadata": {},
   "outputs": [],
   "source": []
  },
  {
   "cell_type": "markdown",
   "metadata": {},
   "source": [
    "## Ejercicio 3\n",
    "\n",
    "Implementa la función `clone_node` que duplica. Si el nodo tiene un `next` también lo duplica\n",
    "\n",
    "Sugerencia: implementa el siguiente pseudocódigo **recursivo**\n",
    "\n",
    "    function clone_node(node)\n",
    "     \n",
    "        si node es NULL\n",
    "            devuelve NULL\n",
    "            \n",
    "        devuelve nuevo_nodo(node.value, clone_node(node.next))"
   ]
  },
  {
   "cell_type": "code",
   "execution_count": 61,
   "metadata": {},
   "outputs": [
    {
     "name": "stdout",
     "output_type": "stream",
     "text": [
      "Overwriting ./utils/student_function/PS05_03.py\n"
     ]
    }
   ],
   "source": [
    "%%writefile ./utils/student_function/PS05_03.py\n",
    "from PS05 import *\n",
    "\n",
    "def clone_node(node):\n",
    "    r = None if node is None else Node(node.value,clone_node(node.next))\n",
    "    return r"
   ]
  },
  {
   "cell_type": "markdown",
   "metadata": {},
   "source": [
    "comprueba manualmente tu código. Los valores han de ser iguales pero los `id` no, señalando que son verdaderamente objetos distintos"
   ]
  },
  {
   "cell_type": "code",
   "execution_count": 28,
   "metadata": {},
   "outputs": [
    {
     "name": "stdout",
     "output_type": "stream",
     "text": [
      "10 140479826944856\n",
      "20 140479827344688\n",
      "30 140479827341664\n",
      "None 94605869727984\n"
     ]
    }
   ],
   "source": [
    "from PS05 import *\n",
    "import PS05_03 as st\n",
    "import importlib\n",
    "importlib.reload(st)\n",
    "\n",
    "n = Node(10, Node(20, Node(30)))\n",
    "print(n, id(n))\n",
    "print(n.next, id(n.next))\n",
    "print(n.next.next, id(n.next.next))\n",
    "print(n.next.next.next, id(n.next.next.next))"
   ]
  },
  {
   "cell_type": "code",
   "execution_count": 29,
   "metadata": {},
   "outputs": [
    {
     "name": "stdout",
     "output_type": "stream",
     "text": [
      "10 140479827018920\n",
      "20 140479827018864\n",
      "30 140479827018752\n",
      "None 94605869727984\n"
     ]
    }
   ],
   "source": [
    "k = st.clone_node(n)\n",
    "print( k, id(k))\n",
    "print( k.next, id(k.next))\n",
    "print( k.next.next, id(k.next.next))\n",
    "print( k.next.next.next, id(k.next.next.next))"
   ]
  },
  {
   "cell_type": "markdown",
   "metadata": {},
   "source": [
    "#### comprueba tu código con el corrector automático"
   ]
  },
  {
   "cell_type": "code",
   "execution_count": 30,
   "metadata": {},
   "outputs": [
    {
     "name": "stdout",
     "output_type": "stream",
     "text": [
      "\r\n",
      "** CORRECTO **\r\n",
      "evaluation result 5.0\r\n"
     ]
    }
   ],
   "source": [
    "!./run CHECK_SOLUTION PS05_03"
   ]
  },
  {
   "cell_type": "markdown",
   "metadata": {},
   "source": [
    "#### registra tu solución en línea"
   ]
  },
  {
   "cell_type": "code",
   "execution_count": 31,
   "metadata": {
    "scrolled": false
   },
   "outputs": [
    {
     "name": "stdout",
     "output_type": "stream",
     "text": [
      "connecting ... registering submission for kevin.camona@udea.edu.co ...\n",
      "no config found for section PS05, allowing all submissions\n",
      "your submissions sheet is https://docs.google.com/spreadsheets/d/1rCu3I1dX6h55fUJIeiqXEjx8CIOvsKz_nGHHR3I5Pcg\n",
      "\n",
      "** CORRECTO **\n",
      "----\n",
      "evaluation result 5.0 , submission registered\n"
     ]
    }
   ],
   "source": [
    "!./run SUBMIT_SOLUTION PS05_03"
   ]
  },
  {
   "cell_type": "code",
   "execution_count": null,
   "metadata": {},
   "outputs": [],
   "source": []
  },
  {
   "cell_type": "markdown",
   "metadata": {},
   "source": [
    "## Ejercicio 4\n",
    "\n",
    "Implementa `clone` que duplica una lista. Pon atención, ya que si hay sublistas, éstas han de ser duplicadas también. Entiende la implementación de la siguiente función, que muestra recursivamente los `id` de cada nodo de una lista **según tu propia implementación del ejercicio 2**"
   ]
  },
  {
   "cell_type": "code",
   "execution_count": 62,
   "metadata": {},
   "outputs": [],
   "source": [
    "from PS05 import *\n",
    "import PS05_02 as st2\n",
    "def show_ids(M, level=0):\n",
    "    k = M.first_node\n",
    "    while k is not None:\n",
    "        print(\" \"*2*level, id(k))\n",
    "        if isinstance(k.value, M.__class__):\n",
    "            show_ids(k.value, level+1)\n",
    "        k = k.next"
   ]
  },
  {
   "cell_type": "code",
   "execution_count": 33,
   "metadata": {},
   "outputs": [
    {
     "name": "stdout",
     "output_type": "stream",
     "text": [
      " 140479827071496\n",
      " 140479827071440\n",
      "   140479827071216\n",
      "   140479827071160\n",
      "   140479827071104\n",
      "     140479827021776\n",
      "     140479827021720\n",
      " 140479827071384\n",
      " 140479827071328\n"
     ]
    }
   ],
   "source": [
    "import PS05_02 as st2\n",
    "from PS05 import *\n",
    "\n",
    "W=st2.L2(Node(10, Node(st2.L2(Node(14, Node(15, Node(st2.L2(Node(16, Node(17))))))), Node(20, Node(30)))))\n",
    "show_ids(W)"
   ]
  },
  {
   "cell_type": "code",
   "execution_count": null,
   "metadata": {},
   "outputs": [],
   "source": []
  },
  {
   "cell_type": "markdown",
   "metadata": {},
   "source": [
    "Desarrolla tu solución de la siguiente manera:\n",
    "\n",
    "1. Primero copia los nodos de la lista actual (`self`)\n",
    "1. Crea una lista nueva con los nodos copiados\n",
    "1. Recorre los nodos de la lista nueva verificando el campo `value`\n",
    "1. Si este campo es también una lista (usa `isinstance` como en la función `show_ids`) entonces llama a `clone` de esa lista y sustituye el valor."
   ]
  },
  {
   "cell_type": "code",
   "execution_count": 63,
   "metadata": {},
   "outputs": [
    {
     "name": "stdout",
     "output_type": "stream",
     "text": [
      "Overwriting ./utils/student_function/PS05_04.py\n"
     ]
    }
   ],
   "source": [
    "%%writefile ./utils/student_function/PS05_04.py\n",
    "from PS05 import *\n",
    "class L4(L):\n",
    "    def __setitem__(self, idx, value):\n",
    "            assert idx<len(self) and idx>(-len(self)-1), \"malo\"\n",
    "            id=idx%len(self)\n",
    "            k=self.first_node\n",
    "            for i in range(id):\n",
    "                k=k.next\n",
    "            k.value=value\n",
    "    \n",
    "    \n",
    "    def clone(self):\n",
    "        def clone_node(node):\n",
    "            if node is None:\n",
    "                return None\n",
    "            else:\n",
    "                r=Node(node.value,clone_node(node.next))\n",
    "                return r\n",
    "        \n",
    "            \n",
    "        w=Node(self.first_node.value,clone_node(self.first_node.next))\n",
    "        m=L4(w)\n",
    "        for i in range(len(m)):\n",
    "            if isinstance(m[i],type(m))==True:\n",
    "                u=m[i].clone()\n",
    "                m[i]=u\n",
    "            \n",
    "        \n",
    "        return m"
   ]
  },
  {
   "cell_type": "markdown",
   "metadata": {},
   "source": [
    "comprueba tu código, ambas listas han de tener el mismo contenido, pero distintos `id`"
   ]
  },
  {
   "cell_type": "code",
   "execution_count": 64,
   "metadata": {},
   "outputs": [
    {
     "data": {
      "text/plain": [
       "[ 10, [ 14, 15, [ 16, 17 ] ], 20, 30 ]"
      ]
     },
     "execution_count": 64,
     "metadata": {},
     "output_type": "execute_result"
    }
   ],
   "source": [
    "import PS05_04 as st\n",
    "import importlib\n",
    "importlib.reload(st)\n",
    "from PS05 import *\n",
    "\n",
    "W=st.L4(Node(10, Node(st.L4(Node(14, Node(15, Node(st.L4(Node(16, Node(17))))))), Node(20, Node(30)))))\n",
    "W"
   ]
  },
  {
   "cell_type": "code",
   "execution_count": 65,
   "metadata": {},
   "outputs": [
    {
     "data": {
      "text/plain": [
       "[ 10, [ 14, 15, [ 16, 17 ] ], 20, 30 ]"
      ]
     },
     "execution_count": 65,
     "metadata": {},
     "output_type": "execute_result"
    }
   ],
   "source": [
    "K = W.clone()\n",
    "K"
   ]
  },
  {
   "cell_type": "code",
   "execution_count": 66,
   "metadata": {},
   "outputs": [
    {
     "name": "stdout",
     "output_type": "stream",
     "text": [
      " 140479825345224\n",
      " 140479825345168\n",
      "   140479825344776\n",
      "   140479825344832\n",
      "   140479825344552\n",
      "     140479827228600\n",
      "     140479826979976\n",
      " 140479825345112\n",
      " 140479825345056\n"
     ]
    }
   ],
   "source": [
    "show_ids(W)"
   ]
  },
  {
   "cell_type": "code",
   "execution_count": 67,
   "metadata": {},
   "outputs": [
    {
     "name": "stdout",
     "output_type": "stream",
     "text": [
      " 140479825602096\n",
      " 140479825602376\n",
      "   140479827105832\n",
      "   140479825601704\n",
      "   140479825601816\n",
      "     140479827105720\n",
      "     140479827105272\n",
      " 140479825601872\n",
      " 140479825602152\n"
     ]
    }
   ],
   "source": [
    "show_ids(K)"
   ]
  },
  {
   "cell_type": "markdown",
   "metadata": {},
   "source": [
    "#### comprueba tu código con el corrector automático"
   ]
  },
  {
   "cell_type": "code",
   "execution_count": 40,
   "metadata": {},
   "outputs": [
    {
     "name": "stdout",
     "output_type": "stream",
     "text": [
      "\n",
      "** CORRECTO **\n",
      "evaluation result 5.0\n"
     ]
    }
   ],
   "source": [
    "!./run CHECK_SOLUTION PS05_04"
   ]
  },
  {
   "cell_type": "markdown",
   "metadata": {},
   "source": [
    "#### registra tu solución en línea"
   ]
  },
  {
   "cell_type": "code",
   "execution_count": 41,
   "metadata": {
    "scrolled": false
   },
   "outputs": [
    {
     "name": "stdout",
     "output_type": "stream",
     "text": [
      "connecting ... registering submission for kevin.camona@udea.edu.co ...\n",
      "no config found for section PS05, allowing all submissions\n",
      "your submissions sheet is https://docs.google.com/spreadsheets/d/1rCu3I1dX6h55fUJIeiqXEjx8CIOvsKz_nGHHR3I5Pcg\n",
      "\n",
      "** CORRECTO **\n",
      "----\n",
      "evaluation result 5.0 , submission registered\n"
     ]
    }
   ],
   "source": [
    "!./run SUBMIT_SOLUTION PS05_04"
   ]
  },
  {
   "cell_type": "code",
   "execution_count": null,
   "metadata": {},
   "outputs": [],
   "source": []
  },
  {
   "cell_type": "markdown",
   "metadata": {},
   "source": [
    "## Ejercicio 5\n",
    "\n",
    "Implementa el método ´__add__´ para que concatene una lista con otra creando una nueva lista. Usa los métodos desarrollados en los ejercicios anteriores. \n",
    "\n",
    "**Sugerencia de implementación**: copia primero las dos listas originales y luego concaténalas haciendo apuntar el `next` del último elemento de la copia de la primera lista al primer elemento de la copia de la segunda lista."
   ]
  },
  {
   "cell_type": "code",
   "execution_count": 3,
   "metadata": {},
   "outputs": [
    {
     "name": "stdout",
     "output_type": "stream",
     "text": [
      "Overwriting ./utils/student_function/PS05_05.py\n"
     ]
    }
   ],
   "source": [
    "%%writefile ./utils/student_function/PS05_05.py\n",
    "from PS05 import *\n",
    "class L5(L):\n",
    "    \n",
    "    def __setitem__(self, idx, value):\n",
    "            assert idx<len(self) and idx>(-len(self)-1), \"malo\"\n",
    "            id=idx%len(self)\n",
    "            k=self.first_node\n",
    "            for i in range(id):\n",
    "                k=k.next\n",
    "            k.value=value\n",
    "    \n",
    "    \n",
    "    def clone(self):\n",
    "        def clone_node(node):\n",
    "            if node is None:\n",
    "                return None\n",
    "            else:\n",
    "                r=Node(node.value,clone_node(node.next))\n",
    "                return r\n",
    "        \n",
    "            \n",
    "        w=Node(self.first_node.value,clone_node(self.first_node.next))\n",
    "        m=L4(w)\n",
    "        for i in range(len(m)):\n",
    "            if isinstance(m[i],type(m))==True:\n",
    "                u=m[i].clone()\n",
    "                m[i]=u\n",
    "        return m\n",
    "    \n",
    "    def __add__(self, M):\n",
    "        k = self.first_node\n",
    "        if k is None:\n",
    "            self.first_node = M.first_node\n",
    "            return self\n",
    "        while k.next is not None:\n",
    "            k = k.next\n",
    "        k.next = M.first_node\n",
    "        return self    "
   ]
  },
  {
   "cell_type": "code",
   "execution_count": 4,
   "metadata": {},
   "outputs": [
    {
     "name": "stdout",
     "output_type": "stream",
     "text": [
      "[ 10, 20, 30 ]\n",
      "[ 3, 2 ]\n",
      "[ 10, 20, 30, 3, 2 ]\n"
     ]
    }
   ],
   "source": [
    "import PS05_05 as st\n",
    "import importlib\n",
    "importlib.reload(st)\n",
    "from PS05 import * \n",
    "W = st.L5(Node(10, Node(20, Node(30))))\n",
    "Z = st.L5(Node(3, Node(2)))\n",
    "print(W)\n",
    "print(Z)\n",
    "print(W + Z + st.L5())"
   ]
  },
  {
   "cell_type": "markdown",
   "metadata": {},
   "source": [
    "esto ahora debería de funcionar (recuerda que en las Notas correspondientes existía un problema)"
   ]
  },
  {
   "cell_type": "code",
   "execution_count": 79,
   "metadata": {},
   "outputs": [
    {
     "ename": "KeyboardInterrupt",
     "evalue": "",
     "output_type": "error",
     "traceback": [
      "\u001b[0;31m---------------------------------------------------------------------------\u001b[0m",
      "\u001b[0;31mKeyboardInterrupt\u001b[0m                         Traceback (most recent call last)",
      "\u001b[0;32m<ipython-input-79-6bea3fe25fa9>\u001b[0m in \u001b[0;36m<module>\u001b[0;34m\u001b[0m\n\u001b[0;32m----> 1\u001b[0;31m \u001b[0mX\u001b[0m \u001b[0;34m=\u001b[0m \u001b[0mW\u001b[0m \u001b[0;34m+\u001b[0m \u001b[0mZ\u001b[0m \u001b[0;34m+\u001b[0m \u001b[0mW\u001b[0m\u001b[0;34m\u001b[0m\u001b[0;34m\u001b[0m\u001b[0m\n\u001b[0m\u001b[1;32m      2\u001b[0m \u001b[0mprint\u001b[0m\u001b[0;34m(\u001b[0m\u001b[0mX\u001b[0m\u001b[0;34m)\u001b[0m\u001b[0;34m\u001b[0m\u001b[0;34m\u001b[0m\u001b[0m\n",
      "\u001b[0;32m~/share/20191.L3/utils/student_function/PS05_05.py\u001b[0m in \u001b[0;36m__add__\u001b[0;34m(self, M)\u001b[0m\n\u001b[1;32m     34\u001b[0m             \u001b[0;32mreturn\u001b[0m \u001b[0mself\u001b[0m\u001b[0;34m\u001b[0m\u001b[0;34m\u001b[0m\u001b[0m\n\u001b[1;32m     35\u001b[0m         \u001b[0;32mwhile\u001b[0m \u001b[0mk\u001b[0m\u001b[0;34m.\u001b[0m\u001b[0mnext\u001b[0m \u001b[0;32mis\u001b[0m \u001b[0;32mnot\u001b[0m \u001b[0;32mNone\u001b[0m\u001b[0;34m:\u001b[0m\u001b[0;34m\u001b[0m\u001b[0;34m\u001b[0m\u001b[0m\n\u001b[0;32m---> 36\u001b[0;31m             \u001b[0mk\u001b[0m \u001b[0;34m=\u001b[0m \u001b[0mk\u001b[0m\u001b[0;34m.\u001b[0m\u001b[0mnext\u001b[0m\u001b[0;34m\u001b[0m\u001b[0;34m\u001b[0m\u001b[0m\n\u001b[0m\u001b[1;32m     37\u001b[0m         \u001b[0mk\u001b[0m\u001b[0;34m.\u001b[0m\u001b[0mnext\u001b[0m \u001b[0;34m=\u001b[0m \u001b[0mM\u001b[0m\u001b[0;34m.\u001b[0m\u001b[0mfirst_node\u001b[0m\u001b[0;34m\u001b[0m\u001b[0;34m\u001b[0m\u001b[0m\n\u001b[1;32m     38\u001b[0m         \u001b[0;32mreturn\u001b[0m \u001b[0mself\u001b[0m\u001b[0;34m\u001b[0m\u001b[0;34m\u001b[0m\u001b[0m\n",
      "\u001b[0;31mKeyboardInterrupt\u001b[0m: "
     ]
    }
   ],
   "source": [
    "X = W + Z + W\n",
    "print(X)"
   ]
  },
  {
   "cell_type": "markdown",
   "metadata": {},
   "source": [
    "#### comprueba tu código con el corrector automático"
   ]
  },
  {
   "cell_type": "code",
   "execution_count": 5,
   "metadata": {},
   "outputs": [
    {
     "name": "stdout",
     "output_type": "stream",
     "text": [
      "\r\n",
      "** CORRECTO **\r\n",
      "evaluation result 5.0\r\n"
     ]
    }
   ],
   "source": [
    "!./run CHECK_SOLUTION PS05_05"
   ]
  },
  {
   "cell_type": "markdown",
   "metadata": {},
   "source": [
    "#### registra tu solución en línea"
   ]
  },
  {
   "cell_type": "code",
   "execution_count": 6,
   "metadata": {
    "scrolled": false
   },
   "outputs": [
    {
     "name": "stdout",
     "output_type": "stream",
     "text": [
      "connecting ... registering submission for kevin.camona@udea.edu.co ...\n",
      "no config found for section PS05, allowing all submissions\n",
      "your submissions sheet is https://docs.google.com/spreadsheets/d/1rCu3I1dX6h55fUJIeiqXEjx8CIOvsKz_nGHHR3I5Pcg\n",
      "\n",
      "** CORRECTO **\n",
      "----\n",
      "evaluation result 5.0 , submission registered\n"
     ]
    }
   ],
   "source": [
    "!./run SUBMIT_SOLUTION PS05_05"
   ]
  },
  {
   "cell_type": "code",
   "execution_count": null,
   "metadata": {},
   "outputs": [],
   "source": []
  },
  {
   "cell_type": "markdown",
   "metadata": {},
   "source": [
    "## Ejercicio 6\n",
    "\n",
    "Implementa la función de igualdad.\n",
    "\n",
    "**Sugerencia de implementación**: haz una función que recorra simultáneamente los nodos de ambas listas (`self` y `other`) y devuelva `False` en cuanto encuentre que el campo `value` de los dos nodos sea distinto (`!=`). Pon especial atención a que si `value` es a su vez una lista, el método será recursivo."
   ]
  },
  {
   "cell_type": "code",
   "execution_count": 42,
   "metadata": {},
   "outputs": [
    {
     "name": "stdout",
     "output_type": "stream",
     "text": [
      "Writing ./utils/student_function/PS05_06.py\n"
     ]
    }
   ],
   "source": [
    "%%writefile ./utils/student_function/PS05_06.py\n",
    "from PS05 import *\n",
    "class L6(L):\n",
    "    def __eq__(self, other):\n",
    "        if len(self) != len(other):\n",
    "            return False\n",
    "        nodo_mio  = self.first_node\n",
    "        nodo_tuyo = other.first_node\n",
    "        for i in range(len(self)):\n",
    "            if nodo_mio.value != nodo_tuyo.value:\n",
    "                return False\n",
    "            else:\n",
    "                nodo_mio  = nodo_mio.next \n",
    "                nodo_tuyo = nodo_tuyo.next\n",
    "        \n",
    "        return True\n",
    "    \n",
    "    def __ne__(self, other):\n",
    "        return not self==other       "
   ]
  },
  {
   "cell_type": "code",
   "execution_count": 43,
   "metadata": {},
   "outputs": [
    {
     "name": "stdout",
     "output_type": "stream",
     "text": [
      "[ 10, [ 14, 15, [ 16, 17 ] ], 20, 30 ]\n",
      "[ 10, [ 14, 15, [ 16, 17 ] ], 20, 30 ]\n",
      "[ 10, [ 14, 15 ], 20, 30 ]\n"
     ]
    }
   ],
   "source": [
    "import PS05_06 as st\n",
    "from PS05 import *\n",
    "import importlib\n",
    "importlib.reload(st)\n",
    "W=st.L6(Node(10, Node(st.L6(Node(14, Node(15, Node(st.L6(Node(16, Node(17))))))), Node(20, Node(30)))))\n",
    "Z=st.L6(Node(10, Node(st.L6(Node(14, Node(15, Node(st.L6(Node(16, Node(17))))))), Node(20, Node(30)))))\n",
    "Y=st.L6(Node(10, Node(st.L6(Node(14, Node(15))), Node(20, Node(30)))))\n",
    "print(W)\n",
    "print(Z)\n",
    "print(Y)"
   ]
  },
  {
   "cell_type": "code",
   "execution_count": 44,
   "metadata": {},
   "outputs": [
    {
     "name": "stdout",
     "output_type": "stream",
     "text": [
      "True\n",
      "True\n",
      "True\n",
      "True\n",
      "False\n",
      "False\n"
     ]
    }
   ],
   "source": [
    "print(W==W)\n",
    "print(Z==Z)\n",
    "print(Y==Y)\n",
    "print(W==Z)\n",
    "print(W==Y)\n",
    "print(Y==Z)"
   ]
  },
  {
   "cell_type": "markdown",
   "metadata": {},
   "source": [
    "#### comprueba tu código con el corrector automático"
   ]
  },
  {
   "cell_type": "code",
   "execution_count": 45,
   "metadata": {},
   "outputs": [
    {
     "name": "stdout",
     "output_type": "stream",
     "text": [
      "\r\n",
      "** CORRECTO **\r\n",
      "evaluation result 5.0\r\n"
     ]
    }
   ],
   "source": [
    "!./run CHECK_SOLUTION PS05_06"
   ]
  },
  {
   "cell_type": "markdown",
   "metadata": {},
   "source": [
    "#### registra tu solución en línea"
   ]
  },
  {
   "cell_type": "code",
   "execution_count": 46,
   "metadata": {
    "scrolled": false
   },
   "outputs": [
    {
     "name": "stdout",
     "output_type": "stream",
     "text": [
      "connecting ... registering submission for kevin.camona@udea.edu.co ...\n",
      "no config found for section PS05, allowing all submissions\n",
      "your submissions sheet is https://docs.google.com/spreadsheets/d/1rCu3I1dX6h55fUJIeiqXEjx8CIOvsKz_nGHHR3I5Pcg\n",
      "\n",
      "** CORRECTO **\n",
      "----\n",
      "evaluation result 5.0 , submission registered\n"
     ]
    }
   ],
   "source": [
    "!./run SUBMIT_SOLUTION PS05_06"
   ]
  },
  {
   "cell_type": "code",
   "execution_count": null,
   "metadata": {},
   "outputs": [],
   "source": []
  },
  {
   "cell_type": "markdown",
   "metadata": {},
   "source": [
    "## Ejercicio 7\n",
    "\n",
    "Realiza una función que evalúe un `VarTerm` dado un diccionario `vals`. Asume que este diccionario contendrá un valor para la variable del término. Por ejemplo\n",
    "\n",
    "    > vals = {\"x\": 1, \"y\":2, \"z\": 3}\n",
    "    > vt = VarTerm(9,\"y\", 2)\n",
    "    > print vt, \"=\", evaluate_vterm(vt, vals)\n",
    "    9 y^2 = 36\n",
    "    \n",
    "    > vt = VarTerm(2,\"z\", 3)\n",
    "    > print vt, \"=\", evaluate_vterm(vt, vals)\n",
    "    2 z^3 = 54\n"
   ]
  },
  {
   "cell_type": "code",
   "execution_count": 51,
   "metadata": {},
   "outputs": [
    {
     "name": "stdout",
     "output_type": "stream",
     "text": [
      "Overwriting ./utils/student_function/PS05_07.py\n"
     ]
    }
   ],
   "source": [
    "%%writefile ./utils/student_function/PS05_07.py\n",
    "from IPython.display import Math\n",
    "import numbers\n",
    "\n",
    "class VarTerm():\n",
    "    def __init__(self, coef, var, exp=1):\n",
    "        assert (isinstance(coef, numbers.Real) or isinstance(coef,numbers.Integral)) and \\\n",
    "                isinstance(exp, numbers.Integral) and isinstance(var, str) and len(var)==1\n",
    "        self.coef = coef\n",
    "        self.var  = var\n",
    "        self.exp  = exp\n",
    "        \n",
    "    def get_math_representation(self):\n",
    "        s = (\"%s\"%str(self.coef) if self.coef!=1 else \"\") +\\\n",
    "            (\" %s\"%self.var if self.exp==1 else (\" %s^%d\"%(self.var, self.exp) if self.exp!=0 else \"\")) \n",
    "        return s\n",
    "    \n",
    "    def __repr__(self):\n",
    "        return self.get_math_representation() \n",
    "        \n",
    "    def evaluate(self, vals):\n",
    "        coef = self.coef\n",
    "        exp = self.exp\n",
    "        expre = coef*vals[self.var]**exp\n",
    "        return expre\n"
   ]
  },
  {
   "cell_type": "code",
   "execution_count": 52,
   "metadata": {},
   "outputs": [
    {
     "name": "stdout",
     "output_type": "stream",
     "text": [
      "9 y^2 = 36\n",
      "2 z^3 = 54\n"
     ]
    }
   ],
   "source": [
    "import PS05_07 as st\n",
    "import importlib\n",
    "importlib.reload(st)\n",
    "\n",
    "vals = {\"x\": 1, \"y\":2, \"z\": 3}\n",
    "vt = st.VarTerm(9,\"y\", 2)\n",
    "print(vt, \"=\", vt.evaluate(vals))\n",
    "vt = st.VarTerm(2,\"z\", 3)\n",
    "print(vt, \"=\", vt.evaluate(vals))"
   ]
  },
  {
   "cell_type": "markdown",
   "metadata": {},
   "source": [
    "#### comprueba tu código con el corrector automático"
   ]
  },
  {
   "cell_type": "code",
   "execution_count": 53,
   "metadata": {},
   "outputs": [
    {
     "name": "stdout",
     "output_type": "stream",
     "text": [
      "\r\n",
      "** CORRECTO **\r\n",
      "evaluation result 5.0\r\n"
     ]
    }
   ],
   "source": [
    "!./run CHECK_SOLUTION PS05_07"
   ]
  },
  {
   "cell_type": "markdown",
   "metadata": {},
   "source": [
    "#### registra tu solución en línea"
   ]
  },
  {
   "cell_type": "code",
   "execution_count": 54,
   "metadata": {
    "scrolled": false
   },
   "outputs": [
    {
     "name": "stdout",
     "output_type": "stream",
     "text": [
      "connecting ... registering submission for kevin.camona@udea.edu.co ...\n",
      "no config found for section PS05, allowing all submissions\n",
      "your submissions sheet is https://docs.google.com/spreadsheets/d/1rCu3I1dX6h55fUJIeiqXEjx8CIOvsKz_nGHHR3I5Pcg\n",
      "\n",
      "** CORRECTO **\n",
      "----\n",
      "evaluation result 5.0 , submission registered\n"
     ]
    }
   ],
   "source": [
    "!./run SUBMIT_SOLUTION PS05_07"
   ]
  },
  {
   "cell_type": "markdown",
   "metadata": {},
   "source": [
    "## Ejercicios de refuerzo (no obligatorios)\n",
    "\n",
    "- crea una función que evalúe un `VarPol`, según definido en las notas.\n",
    "- analiza la complejidad computacional de tus implementaciones\n",
    "- ¿Podrías enriqueces `Node` para mejorar la complejidad computacional?"
   ]
  },
  {
   "cell_type": "code",
   "execution_count": null,
   "metadata": {},
   "outputs": [],
   "source": []
  },
  {
   "cell_type": "code",
   "execution_count": null,
   "metadata": {},
   "outputs": [],
   "source": []
  },
  {
   "cell_type": "code",
   "execution_count": null,
   "metadata": {},
   "outputs": [],
   "source": []
  }
 ],
 "metadata": {
  "kernelspec": {
   "display_name": "p37",
   "language": "python",
   "name": "python3"
  },
  "language_info": {
   "codemirror_mode": {
    "name": "ipython",
    "version": 3
   },
   "file_extension": ".py",
   "mimetype": "text/x-python",
   "name": "python",
   "nbconvert_exporter": "python",
   "pygments_lexer": "ipython3",
   "version": "3.7.3"
  }
 },
 "nbformat": 4,
 "nbformat_minor": 2
}
