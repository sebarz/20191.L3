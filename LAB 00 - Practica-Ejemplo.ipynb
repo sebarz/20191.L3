{
 "cells": [
  {
   "cell_type": "markdown",
   "metadata": {},
   "source": [
    "## Taller de Ejemplo\n",
    "\n",
    "## EJECUTA ESTA CELDA PARA AUTENTICARTE CON TU CUENTA DE GMAIL"
   ]
  },
  {
   "cell_type": "code",
   "execution_count": 3,
   "metadata": {},
   "outputs": [
    {
     "name": "stdout",
     "output_type": "stream",
     "text": [
      "CLICK ON THIS LINK TO AUTHENTICATE WITH YOUR GMAIL ACCOUNT\n",
      "https://accounts.google.com/o/oauth2/auth?client_id=486275613361-7nk9ktukfcfjevfoe3tamjp0pmbjmprs.apps.googleusercontent.com&redirect_uri=http%3A%2F%2Flocalhost%3A8080&scope=profile+email&access_type=offline&response_type=code\n",
      "waiting for authentication ...\n",
      "authentication succeeded\n"
     ]
    },
    {
     "data": {
      "text/html": [
       "<table><tr><td><img src='https://lh3.googleusercontent.com/-6drYk1CcCkw/AAAAAAAAAAI/AAAAAAAAAAA/ACHi3rfg8MS7sIUhvebrC6InFGWYXrXAcQ/photo.jpg' width=60 height=60/></td><td>sebastian.ruiz8@udea.edu.co<br/>SEBASTIAN  RUIZ PALACIO<br/>google id: 114687344014261575746<br/>authorization code: 4/qgFK0-BdLTZvLjaq26Pqnha_oKoCBRizS1BtR3Rc0HDZrUXuJJRVfSCQHSB2c66oVKBuEthksa8mTSati6YIdvE</td></tr></table>"
      ],
      "text/plain": [
       "<IPython.core.display.HTML object>"
      ]
     },
     "execution_count": 3,
     "metadata": {},
     "output_type": "execute_result"
    }
   ],
   "source": [
    "!pip install -q oauth2client==1.5.2\n",
    "from mooclib import *\n",
    "import sys, inspect, urllib\n",
    "sys.path.append(\"./utils/student_function/\")\n",
    "html, auth_code, userinfo = google_authenticate(PORT_NUMBER=8080)\n",
    "html"
   ]
  },
  {
   "cell_type": "markdown",
   "metadata": {},
   "source": [
    "### Ejercicio 1: Suma dos matrices"
   ]
  },
  {
   "cell_type": "markdown",
   "metadata": {},
   "source": [
    "Completa la función `suma_matrices` para que, dadas dos arrays numpy cualquiera devuelva la suma elemento a elemento.\n",
    "\n",
    "#### Ejemplo de ejecución\n",
    "\n",
    "    > s = np.array([1,2,3])\n",
    "    > t = np.array([4,5,6])\n",
    "    > suma_matrices(s,t)\n",
    "    \n",
    "      [5 7 9]\n",
    "     "
   ]
  },
  {
   "cell_type": "code",
   "execution_count": 1,
   "metadata": {},
   "outputs": [
    {
     "name": "stdout",
     "output_type": "stream",
     "text": [
      "Writing ./utils/student_function/PS00_01.py\n"
     ]
    }
   ],
   "source": [
    "%%writefile ./utils/student_function/PS00_01.py\n",
    "\n",
    "import numpy as np\n",
    "\n",
    "def suma_matrices(a,b):\n",
    "    result = a+b\n",
    "    return result\n"
   ]
  },
  {
   "cell_type": "markdown",
   "metadata": {},
   "source": [
    "comprueba manualmente tu código"
   ]
  },
  {
   "cell_type": "code",
   "execution_count": 4,
   "metadata": {},
   "outputs": [
    {
     "name": "stdout",
     "output_type": "stream",
     "text": [
      "[[5 2]\n",
      " [1 6]\n",
      " [2 6]]\n",
      "[[0 1]\n",
      " [4 5]\n",
      " [6 4]]\n",
      "[[ 5  3]\n",
      " [ 5 11]\n",
      " [ 8 10]]\n"
     ]
    }
   ],
   "source": [
    "import PS00_01 as st\n",
    "from importlib import reload; reload(st)\n",
    "import numpy as np\n",
    "a = np.random.randint(10, size=(3,2))\n",
    "b = np.random.randint(10, size=(3,2))\n",
    "print (a)\n",
    "print (b)\n",
    "print (st.suma_matrices(a,b))"
   ]
  },
  {
   "cell_type": "markdown",
   "metadata": {},
   "source": [
    "#### comprueba tu código con el corrector automático"
   ]
  },
  {
   "cell_type": "code",
   "execution_count": 5,
   "metadata": {},
   "outputs": [
    {
     "name": "stdout",
     "output_type": "stream",
     "text": [
      "checking your code with 100 random calls\r\n",
      "** CORRECTO **\r\n",
      "evaluation result 5.0\r\n"
     ]
    }
   ],
   "source": [
    "!./run CHECK_SOLUTION PS00_01"
   ]
  },
  {
   "cell_type": "markdown",
   "metadata": {},
   "source": [
    "#### registra tu solución en línea"
   ]
  },
  {
   "cell_type": "code",
   "execution_count": 6,
   "metadata": {},
   "outputs": [
    {
     "name": "stdout",
     "output_type": "stream",
     "text": [
      "connecting ... registering submission for sebastian.ruiz8@udea.edu.co ...\n",
      "no config found for section PS00, allowing all submissions\n",
      "your submissions sheet is https://docs.google.com/spreadsheets/d/1WaK6Gr9sKYog5B6r3UnFKCNRUOte1AwPbjkDQg5r3kI\n",
      "checking your code with 100 random calls\n",
      "** CORRECTO **\n",
      "----\n",
      "evaluation result 5.0 , submission registered\n"
     ]
    }
   ],
   "source": [
    "!./run SUBMIT_SOLUTION PS00_01"
   ]
  },
  {
   "cell_type": "code",
   "execution_count": null,
   "metadata": {},
   "outputs": [],
   "source": []
  }
 ],
 "metadata": {
  "kernelspec": {
   "display_name": "p37",
   "language": "python",
   "name": "python3"
  },
  "language_info": {
   "codemirror_mode": {
    "name": "ipython",
    "version": 3
   },
   "file_extension": ".py",
   "mimetype": "text/x-python",
   "name": "python",
   "nbconvert_exporter": "python",
   "pygments_lexer": "ipython3",
   "version": "3.7.3"
  },
  "toc": {
   "toc_cell": false,
   "toc_number_sections": true,
   "toc_threshold": 6,
   "toc_window_display": false
  },
  "widgets": {
   "state": {},
   "version": "1.1.2"
  }
 },
 "nbformat": 4,
 "nbformat_minor": 2
}
