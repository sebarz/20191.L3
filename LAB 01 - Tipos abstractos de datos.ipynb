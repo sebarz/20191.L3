{
 "cells": [
  {
   "cell_type": "code",
   "execution_count": 6,
   "metadata": {},
   "outputs": [
    {
     "name": "stdout",
     "output_type": "stream",
     "text": [
      "CLICK ON THIS LINK TO AUTHENTICATE WITH YOUR GMAIL ACCOUNT\n",
      "https://accounts.google.com/o/oauth2/auth?client_id=486275613361-7nk9ktukfcfjevfoe3tamjp0pmbjmprs.apps.googleusercontent.com&redirect_uri=http%3A%2F%2Flocalhost%3A8080&scope=profile+email&access_type=offline&response_type=code\n",
      "waiting for authentication ...\n",
      "authentication succeeded\n"
     ]
    },
    {
     "data": {
      "text/html": [
       "<table><tr><td><img src='https://lh3.googleusercontent.com/-6drYk1CcCkw/AAAAAAAAAAI/AAAAAAAAAAA/ACHi3rfg8MS7sIUhvebrC6InFGWYXrXAcQ/mo/photo.jpg' width=60 height=60/></td><td>sebastian.ruiz8@udea.edu.co<br/>SEBASTIAN  RUIZ PALACIO<br/>google id: 114687344014261575746<br/>authorization code: 4/bQGMFkuMD4EM2cvgyZ9OFqaKbum1OYWb1pIRICeF5qKg1Dln3W1pmd_5VRWlpTWhclKJyKcV0lerIu9t8u5h4J0</td></tr></table>"
      ],
      "text/plain": [
       "<IPython.core.display.HTML object>"
      ]
     },
     "execution_count": 6,
     "metadata": {},
     "output_type": "execute_result"
    }
   ],
   "source": [
    "!pip install -q oauth2client==1.5.2\n",
    "from mooclib import *\n",
    "import sys, inspect, urllib\n",
    "sys.path.append(\"./utils/student_function/\")\n",
    "html, auth_code, userinfo = google_authenticate(PORT_NUMBER=8080)\n",
    "html"
   ]
  },
  {
   "cell_type": "markdown",
   "metadata": {},
   "source": [
    "## Implementación de una Pila\n",
    "\n",
    "Definimos el siguiente TAD, como una estructura de tipo LIFO (_Last In First Out_)\n",
    "\n",
    "**TAD** $Stack$\n",
    "\n",
    "$\\forall S \\in Stack, d \\in AnyType$\n",
    "\n",
    "**signatures**:\n",
    "$$\n",
    "\\begin{align}\n",
    "new() &\\rightarrow Stack\\\\\n",
    "S.put(d) &\\rightarrow Stack \\\\\n",
    "S.get() &\\rightarrow AnyType\\\\\n",
    "S.len() &\\rightarrow \\mathbb{Z}\n",
    "\\end{align}\n",
    "$$    \n",
    "\n",
    "\n",
    "**axioms**:\n",
    "\n",
    "- $new().len() ::= 0 $\n",
    "- $S.put(d).get() ::= d$\n",
    "- $S.put(d).len() ::= S.len()+1$\n",
    "- $S.get() \\;\\;and\\;\\; S.len()==0::=Error$\n",
    "- $S.len()=n \\;\\;and\\;\\;S.get() \\Rightarrow S.len()=n-1$"
   ]
  },
  {
   "cell_type": "markdown",
   "metadata": {},
   "source": [
    "## Ejercicio 1\n",
    "\n",
    "completa la función siguiente para añadir un elemento a una lista\n",
    "\n",
    "ejecución de ejemplo:\n",
    "\n",
    "    > x = [1,4,3]\n",
    "    > print st.append(x,5)\n",
    "\n",
    "    [1, 4, 3, 5]"
   ]
  },
  {
   "cell_type": "code",
   "execution_count": 2,
   "metadata": {},
   "outputs": [
    {
     "name": "stdout",
     "output_type": "stream",
     "text": [
      "Overwriting ./utils/student_function/PS01_01.py\n"
     ]
    }
   ],
   "source": [
    "%%writefile ./utils/student_function/PS01_01.py\n",
    "\n",
    "def append(l,d):\n",
    "    lista = l + [d]\n",
    "    return lista"
   ]
  },
  {
   "cell_type": "markdown",
   "metadata": {},
   "source": [
    "verifica manualmente tu código"
   ]
  },
  {
   "cell_type": "code",
   "execution_count": 11,
   "metadata": {},
   "outputs": [
    {
     "data": {
      "text/plain": [
       "[1, 4, 3, 5]"
      ]
     },
     "execution_count": 11,
     "metadata": {},
     "output_type": "execute_result"
    }
   ],
   "source": [
    "import PS01_01 as st        \n",
    "from importlib import reload; reload(st)\n",
    "\n",
    "x = [1,4,3]\n",
    "st.append(x,5)"
   ]
  },
  {
   "cell_type": "markdown",
   "metadata": {},
   "source": [
    "#### comprueba tu código con el corrector automático"
   ]
  },
  {
   "cell_type": "code",
   "execution_count": 12,
   "metadata": {},
   "outputs": [
    {
     "name": "stdout",
     "output_type": "stream",
     "text": [
      "checking your code with 100 random calls\r\n",
      "** CORRECTO **\r\n",
      "evaluation result 5.0\r\n"
     ]
    }
   ],
   "source": [
    "!./run CHECK_SOLUTION PS01_01"
   ]
  },
  {
   "cell_type": "markdown",
   "metadata": {},
   "source": [
    "#### registra tu solución en línea"
   ]
  },
  {
   "cell_type": "code",
   "execution_count": 38,
   "metadata": {},
   "outputs": [
    {
     "name": "stdout",
     "output_type": "stream",
     "text": [
      "connecting ... registering submission for sebastian.ruiz8@udea.edu.co ...\n",
      "no config found for section PS01, allowing all submissions\n",
      "your submissions sheet is https://docs.google.com/spreadsheets/d/1WaK6Gr9sKYog5B6r3UnFKCNRUOte1AwPbjkDQg5r3kI\n",
      "checking your code with 100 random calls\n",
      "** CORRECTO **\n",
      "----\n",
      "evaluation result 5.0 , submission registered\n"
     ]
    }
   ],
   "source": [
    "!./run SUBMIT_SOLUTION PS01_01"
   ]
  },
  {
   "cell_type": "markdown",
   "metadata": {},
   "source": [
    "## Ejercicio 2\n",
    "\n",
    "completa la función siguiente para que, dada una lista, devuelva dos resultados:\n",
    "\n",
    "- el valor del último elemento de la lista\n",
    "- una nueva lista en la que se eliminó el último elemento\n",
    "- si la lista es vacía debe de generar un `AssertionError`\n",
    "\n",
    "Ejemplo de ejecución:\n",
    "\n",
    "    > x = [1,5,6]\n",
    "    > print \"initial\", x\n",
    "    > for _ in range(len(x)+1):\n",
    "    >     v,x = getremove_last(x)\n",
    "    >     print \"last val\", v, \", remaining list\", x\n",
    "    \n",
    "    initial [1, 5, 6]\n",
    "    last val 6 , remaining list [1, 5]\n",
    "    last val 5 , remaining list [1]\n",
    "    last val 1 , remaining list []\n",
    "    \n",
    "    ----------------------------------------------------------------------\n",
    "    AssertionError                       Traceback (most recent call last)\n",
    "    <ipython-input-4-578f9f1609fe> in <module>()"
   ]
  },
  {
   "cell_type": "code",
   "execution_count": 3,
   "metadata": {
    "scrolled": true
   },
   "outputs": [
    {
     "name": "stdout",
     "output_type": "stream",
     "text": [
      "Overwriting ./utils/student_function/PS01_02.py\n"
     ]
    }
   ],
   "source": [
    "%%writefile ./utils/student_function/PS01_02.py\n",
    "def getremove_last(l):\n",
    "    assert len(l) > 0, \"AssertionError\"\n",
    "    longitud = len(l)\n",
    "    val = l[longitud -1]\n",
    "    rest_list = l[:-1]\n",
    "    return val, rest_list"
   ]
  },
  {
   "cell_type": "markdown",
   "metadata": {},
   "source": [
    "comprueba manualmente tu código"
   ]
  },
  {
   "cell_type": "code",
   "execution_count": 14,
   "metadata": {},
   "outputs": [
    {
     "name": "stdout",
     "output_type": "stream",
     "text": [
      "initial [1, 5, 6]\n",
      "last val 6 , remaining list [1, 5]\n",
      "last val 5 , remaining list [1]\n",
      "last val 1 , remaining list []\n"
     ]
    },
    {
     "ename": "AssertionError",
     "evalue": "AssertionError",
     "output_type": "error",
     "traceback": [
      "\u001b[0;31m---------------------------------------------------------------------------\u001b[0m",
      "\u001b[0;31mAssertionError\u001b[0m                            Traceback (most recent call last)",
      "\u001b[0;32m<ipython-input-14-e14ea0066ef4>\u001b[0m in \u001b[0;36m<module>\u001b[0;34m\u001b[0m\n\u001b[1;32m      5\u001b[0m \u001b[0mprint\u001b[0m \u001b[0;34m(\u001b[0m\u001b[0;34m\"initial\"\u001b[0m\u001b[0;34m,\u001b[0m \u001b[0mx\u001b[0m\u001b[0;34m)\u001b[0m\u001b[0;34m\u001b[0m\u001b[0;34m\u001b[0m\u001b[0m\n\u001b[1;32m      6\u001b[0m \u001b[0;32mfor\u001b[0m \u001b[0m_\u001b[0m \u001b[0;32min\u001b[0m \u001b[0mrange\u001b[0m\u001b[0;34m(\u001b[0m\u001b[0mlen\u001b[0m\u001b[0;34m(\u001b[0m\u001b[0mx\u001b[0m\u001b[0;34m)\u001b[0m\u001b[0;34m+\u001b[0m\u001b[0;36m1\u001b[0m\u001b[0;34m)\u001b[0m\u001b[0;34m:\u001b[0m\u001b[0;34m\u001b[0m\u001b[0;34m\u001b[0m\u001b[0m\n\u001b[0;32m----> 7\u001b[0;31m     \u001b[0mv\u001b[0m\u001b[0;34m,\u001b[0m\u001b[0mx\u001b[0m \u001b[0;34m=\u001b[0m \u001b[0mst\u001b[0m\u001b[0;34m.\u001b[0m\u001b[0mgetremove_last\u001b[0m\u001b[0;34m(\u001b[0m\u001b[0mx\u001b[0m\u001b[0;34m)\u001b[0m\u001b[0;34m\u001b[0m\u001b[0;34m\u001b[0m\u001b[0m\n\u001b[0m\u001b[1;32m      8\u001b[0m     \u001b[0mprint\u001b[0m \u001b[0;34m(\u001b[0m\u001b[0;34m\"last val\"\u001b[0m\u001b[0;34m,\u001b[0m \u001b[0mv\u001b[0m\u001b[0;34m,\u001b[0m \u001b[0;34m\", remaining list\"\u001b[0m\u001b[0;34m,\u001b[0m \u001b[0mx\u001b[0m\u001b[0;34m)\u001b[0m\u001b[0;34m\u001b[0m\u001b[0;34m\u001b[0m\u001b[0m\n",
      "\u001b[0;32m~/share/20191.L3/utils/student_function/PS01_02.py\u001b[0m in \u001b[0;36mgetremove_last\u001b[0;34m(l)\u001b[0m\n\u001b[1;32m      1\u001b[0m \u001b[0;32mdef\u001b[0m \u001b[0mgetremove_last\u001b[0m\u001b[0;34m(\u001b[0m\u001b[0ml\u001b[0m\u001b[0;34m)\u001b[0m\u001b[0;34m:\u001b[0m\u001b[0;34m\u001b[0m\u001b[0;34m\u001b[0m\u001b[0m\n\u001b[0;32m----> 2\u001b[0;31m     \u001b[0;32massert\u001b[0m \u001b[0mlen\u001b[0m\u001b[0;34m(\u001b[0m\u001b[0ml\u001b[0m\u001b[0;34m)\u001b[0m \u001b[0;34m>\u001b[0m \u001b[0;36m0\u001b[0m\u001b[0;34m,\u001b[0m \u001b[0;34m\"AssertionError\"\u001b[0m\u001b[0;34m\u001b[0m\u001b[0;34m\u001b[0m\u001b[0m\n\u001b[0m\u001b[1;32m      3\u001b[0m     \u001b[0mlongitud\u001b[0m \u001b[0;34m=\u001b[0m \u001b[0mlen\u001b[0m\u001b[0;34m(\u001b[0m\u001b[0ml\u001b[0m\u001b[0;34m)\u001b[0m\u001b[0;34m\u001b[0m\u001b[0;34m\u001b[0m\u001b[0m\n\u001b[1;32m      4\u001b[0m     \u001b[0mval\u001b[0m \u001b[0;34m=\u001b[0m \u001b[0ml\u001b[0m\u001b[0;34m[\u001b[0m\u001b[0mlongitud\u001b[0m \u001b[0;34m-\u001b[0m\u001b[0;36m1\u001b[0m\u001b[0;34m]\u001b[0m\u001b[0;34m\u001b[0m\u001b[0;34m\u001b[0m\u001b[0m\n\u001b[1;32m      5\u001b[0m     \u001b[0mrest_list\u001b[0m \u001b[0;34m=\u001b[0m \u001b[0ml\u001b[0m\u001b[0;34m[\u001b[0m\u001b[0;34m:\u001b[0m\u001b[0;34m-\u001b[0m\u001b[0;36m1\u001b[0m\u001b[0;34m]\u001b[0m\u001b[0;34m\u001b[0m\u001b[0;34m\u001b[0m\u001b[0m\n",
      "\u001b[0;31mAssertionError\u001b[0m: AssertionError"
     ]
    }
   ],
   "source": [
    "import PS01_02 as st  \n",
    "from importlib import reload; reload(st)\n",
    "\n",
    "x = [1,5,6]\n",
    "print (\"initial\", x)\n",
    "for _ in range(len(x)+1):\n",
    "    v,x = st.getremove_last(x)\n",
    "    print (\"last val\", v, \", remaining list\", x)"
   ]
  },
  {
   "cell_type": "markdown",
   "metadata": {},
   "source": [
    "#### comprueba tu código con el corrector automático"
   ]
  },
  {
   "cell_type": "code",
   "execution_count": 15,
   "metadata": {},
   "outputs": [
    {
     "name": "stdout",
     "output_type": "stream",
     "text": [
      "checking your code with 100 random calls\r\n",
      "** CORRECTO **\r\n",
      "evaluation result 5.0\r\n"
     ]
    }
   ],
   "source": [
    "!./run CHECK_SOLUTION PS01_02"
   ]
  },
  {
   "cell_type": "markdown",
   "metadata": {},
   "source": [
    "#### registra tu solución en línea"
   ]
  },
  {
   "cell_type": "code",
   "execution_count": null,
   "metadata": {},
   "outputs": [],
   "source": [
    "!./run SUBMIT_SOLUTION PS01_02"
   ]
  },
  {
   "cell_type": "markdown",
   "metadata": {},
   "source": [
    "##  Ejercicio 3\n",
    "\n",
    "Completa la clase `Stack` con la semántica del TAD definido anteriormente. Usa las funciones anteriores si lo consideras necesario. Ejemplo de ejecución:\n",
    "\n",
    "    > print \"stacking elements\"\n",
    "    > s = st.Stack()\n",
    "    > s.put(4).put(2).put(\"hola\")\n",
    "    > print s.len()\n",
    "    > print s.elements\n",
    "    > \n",
    "    > print (\"\\n--\\nunstacking\")\n",
    "    > for _ in range(s.len()):\n",
    "    >     print s.get()\n",
    "    > \n",
    "    > print \"this next call must fail\"\n",
    "    > s.get()\n",
    "\n",
    "    stacking elements\n",
    "    3\n",
    "    [4, 2, 'hola']\n",
    "\n",
    "    --\n",
    "    unstacking\n",
    "    hola\n",
    "    2\n",
    "    4\n",
    "    this next call must fail\n",
    "\n",
    "    AssertionErrorTraceback (most recent call last)\n",
    "    <ipython-input-13-749203dd226f> in <module>()\n",
    "         13 \n",
    "         14 print \"this next call must fail\"\n",
    "    ---> 15 s.get()\n",
    "        ..."
   ]
  },
  {
   "cell_type": "code",
   "execution_count": 4,
   "metadata": {},
   "outputs": [
    {
     "name": "stdout",
     "output_type": "stream",
     "text": [
      "Overwriting ./utils/student_function/PS01_03.py\n"
     ]
    }
   ],
   "source": [
    "%%writefile ./utils/student_function/PS01_03.py\n",
    "\n",
    "\n",
    "def append(l,d):\n",
    "    l += [d]\n",
    "    return l\n",
    "\n",
    "def getremove_last(l):\n",
    "    assert len(l) > 0, \"AssertionError\"\n",
    "    longitud = len(l)\n",
    "    val = l[longitud -1]\n",
    "    rest_list = l[:-1]\n",
    "    return val, rest_list  \n",
    "\n",
    "class Stack:\n",
    "    \n",
    "    def __init__(self):\n",
    "        self.elements = []\n",
    "  \n",
    "    def put(self, d):\n",
    "        self.elements.append(d)\n",
    "        return self\n",
    "        \n",
    "    def get(self):\n",
    "        assert len(self.elements) > 0, \"No hay nada en la pila\"\n",
    "        return self.elements.pop()\n",
    "\n",
    "    def len(self):\n",
    "        return len(self.elements)\n",
    "\n"
   ]
  },
  {
   "cell_type": "code",
   "execution_count": 17,
   "metadata": {},
   "outputs": [
    {
     "name": "stdout",
     "output_type": "stream",
     "text": [
      "stacking elements\n",
      "3\n",
      "[4, 2, 'hola']\n",
      "\n",
      "--\n",
      "unstacking\n",
      "hola\n",
      "2\n",
      "4\n",
      "*** tu codigo está generando asserts correctos\n"
     ]
    }
   ],
   "source": [
    "import PS01_03 as st  \n",
    "from importlib import reload; reload(st)\n",
    " \n",
    "print (\"stacking elements\")\n",
    "s = st.Stack()\n",
    "s.put(4).put(2).put(\"hola\")\n",
    "print (s.len())\n",
    "print (s.elements)\n",
    "\n",
    "print (\"\\n--\\nunstacking\")\n",
    "for _ in range(s.len()):\n",
    "    print (s.get())\n",
    "    \n",
    "try:\n",
    "    s.get()\n",
    "    print (\"*** cuidado! tu código no contiene asserts\")\n",
    "except AssertionError:\n",
    "    print (\"*** tu codigo está generando asserts correctos\")"
   ]
  },
  {
   "cell_type": "markdown",
   "metadata": {},
   "source": [
    "#### comprueba tu código con el corrector automático\n"
   ]
  },
  {
   "cell_type": "code",
   "execution_count": 18,
   "metadata": {},
   "outputs": [
    {
     "name": "stdout",
     "output_type": "stream",
     "text": [
      "checking your code with 100 random parameters\r\n",
      "** CORRECTO **\r\n",
      "evaluation result 5.0\r\n"
     ]
    }
   ],
   "source": [
    "!./run CHECK_SOLUTION PS01_03"
   ]
  },
  {
   "cell_type": "markdown",
   "metadata": {},
   "source": [
    "#### registra tu solución en línea"
   ]
  },
  {
   "cell_type": "code",
   "execution_count": null,
   "metadata": {},
   "outputs": [],
   "source": [
    "!./run SUBMIT_SOLUTION PS01_03"
   ]
  },
  {
   "cell_type": "markdown",
   "metadata": {},
   "source": [
    "## Implementación de una Cola\n",
    "\n",
    "Definimos el siguiente TAD, como una estructura de tipo FIFO (_First In First Out_)\n",
    "\n",
    "**TAD** $Queue$\n",
    "\n",
    "$\\forall Q \\in Queue, d \\in AnyType$\n",
    "\n",
    "**signatures**:\n",
    "$$\n",
    "\\begin{align}\n",
    "new() &\\rightarrow Queue\\\\\n",
    "Q.put(d) &\\rightarrow Queue \\\\\n",
    "Q.get() &\\rightarrow AnyType\\\\\n",
    "Q.len() &\\rightarrow \\mathbb{Z}\n",
    "\\end{align}\n",
    "$$    \n",
    "\n",
    "\n",
    "**axioms**:\n",
    "\n",
    "- $new().len() ::= 0 $\n",
    "\n",
    "- $Q.get()^n==d_i \\iff Q=new().put(d_i)^n$\n",
    "- $Q.get(d).len() ::= Q.len()+1$\n",
    "- $Q.get() \\;\\;and\\;\\; Q.len()==0::=Error$\n",
    "- $Q.len()=n \\;\\;and\\;\\;Q.get() \\Rightarrow Q.len()=n-1$\n",
    "\n",
    "y definimos la notación:\n",
    "\n",
    "- $Q.put(d_i)^n ::= Q.put(d_1).put(d_2)....put(d_n)$\n",
    "- $Q.get()^n ::= Q.get()\\;,\\;... n\\; veces\\; ...\\;,\\; Q.get()$ y tomando el resultado del último\n",
    "\n"
   ]
  },
  {
   "cell_type": "markdown",
   "metadata": {},
   "source": [
    "##  Ejercicio 4\n",
    "\n",
    "Completa la clase `Queue` con la semántica que acabamos de definir. Ejemplo de ejecución\n",
    "\n",
    "    > import PS01_04 as st  \n",
    "    > reload(st)\n",
    "    > \n",
    "    > print \"enqueueing elements\"\n",
    "    > q = st.Queue()\n",
    "    > q.put(4).put(2).put(\"hola\")\n",
    "    > print q.len()\n",
    "    > print q.elements\n",
    "    >\n",
    "    > print (\"\\n--\\ndequeueing\")\n",
    "    > for _ in range(q.len()):\n",
    "    >     print q.get()\n",
    "    >\n",
    "    < print \"this next call must fail\"\n",
    "    > q.get()\n",
    "\n",
    "\n",
    "    enqueueing elements\n",
    "    3\n",
    "    [4, 2, 'hola']\n",
    "\n",
    "    --\n",
    "    dequeueing\n",
    "    4\n",
    "    2\n",
    "    hola\n",
    "    this next call must fail\n",
    "\n",
    "    AssertionErrorTraceback (most recent call last)\n",
    "    <ipython-input-284-50dc775a67ed> in <module>()\n",
    "         13 \n",
    "         14 print \"this next call must fail\"\n",
    "    ---> 15 q.get()"
   ]
  },
  {
   "cell_type": "code",
   "execution_count": 5,
   "metadata": {},
   "outputs": [
    {
     "name": "stdout",
     "output_type": "stream",
     "text": [
      "Overwriting ./utils/student_function/PS01_04.py\n"
     ]
    }
   ],
   "source": [
    "%%writefile ./utils/student_function/PS01_04.py\n",
    "\n",
    "\n",
    "def append(l,d):\n",
    "    l += [d]\n",
    "    return l\n",
    "\n",
    "\n",
    "class Queue:\n",
    "    \n",
    "    def __init__(self):\n",
    "        self.elements = []\n",
    "        \n",
    "    def put(self, d):\n",
    "        self.elements.append(d)\n",
    "        return self\n",
    "    \n",
    "    def get(self):\n",
    "        assert len(self.elements) > 0, \"cola vacía\"\n",
    "        val = self.elements[0]\n",
    "        self.elements = self.elements[1:]\n",
    "        return val\n",
    "    \n",
    "    def len(self):\n",
    "        return len(self.elements)"
   ]
  },
  {
   "cell_type": "code",
   "execution_count": 20,
   "metadata": {},
   "outputs": [
    {
     "name": "stdout",
     "output_type": "stream",
     "text": [
      "enqueueing elements\n",
      "3\n",
      "[4, 2, 'hola']\n",
      "\n",
      "--\n",
      "dequeueing\n",
      "4\n",
      "2\n",
      "hola\n",
      "this next call must fail\n"
     ]
    },
    {
     "ename": "AssertionError",
     "evalue": "cola vacía",
     "output_type": "error",
     "traceback": [
      "\u001b[0;31m---------------------------------------------------------------------------\u001b[0m",
      "\u001b[0;31mAssertionError\u001b[0m                            Traceback (most recent call last)",
      "\u001b[0;32m<ipython-input-20-70bf5ac87615>\u001b[0m in \u001b[0;36m<module>\u001b[0;34m\u001b[0m\n\u001b[1;32m     13\u001b[0m \u001b[0;34m\u001b[0m\u001b[0m\n\u001b[1;32m     14\u001b[0m \u001b[0mprint\u001b[0m \u001b[0;34m(\u001b[0m\u001b[0;34m\"this next call must fail\"\u001b[0m\u001b[0;34m)\u001b[0m\u001b[0;34m\u001b[0m\u001b[0;34m\u001b[0m\u001b[0m\n\u001b[0;32m---> 15\u001b[0;31m \u001b[0mq\u001b[0m\u001b[0;34m.\u001b[0m\u001b[0mget\u001b[0m\u001b[0;34m(\u001b[0m\u001b[0;34m)\u001b[0m\u001b[0;34m\u001b[0m\u001b[0;34m\u001b[0m\u001b[0m\n\u001b[0m",
      "\u001b[0;32m~/share/20191.L3/utils/student_function/PS01_04.py\u001b[0m in \u001b[0;36mget\u001b[0;34m(self)\u001b[0m\n\u001b[1;32m     16\u001b[0m \u001b[0;34m\u001b[0m\u001b[0m\n\u001b[1;32m     17\u001b[0m     \u001b[0;32mdef\u001b[0m \u001b[0mget\u001b[0m\u001b[0;34m(\u001b[0m\u001b[0mself\u001b[0m\u001b[0;34m)\u001b[0m\u001b[0;34m:\u001b[0m\u001b[0;34m\u001b[0m\u001b[0;34m\u001b[0m\u001b[0m\n\u001b[0;32m---> 18\u001b[0;31m         \u001b[0;32massert\u001b[0m \u001b[0mlen\u001b[0m\u001b[0;34m(\u001b[0m\u001b[0mself\u001b[0m\u001b[0;34m.\u001b[0m\u001b[0melements\u001b[0m\u001b[0;34m)\u001b[0m \u001b[0;34m>\u001b[0m \u001b[0;36m0\u001b[0m\u001b[0;34m,\u001b[0m \u001b[0;34m\"cola vacía\"\u001b[0m\u001b[0;34m\u001b[0m\u001b[0;34m\u001b[0m\u001b[0m\n\u001b[0m\u001b[1;32m     19\u001b[0m         \u001b[0mval\u001b[0m \u001b[0;34m=\u001b[0m \u001b[0mself\u001b[0m\u001b[0;34m.\u001b[0m\u001b[0melements\u001b[0m\u001b[0;34m[\u001b[0m\u001b[0;36m0\u001b[0m\u001b[0;34m]\u001b[0m\u001b[0;34m\u001b[0m\u001b[0;34m\u001b[0m\u001b[0m\n\u001b[1;32m     20\u001b[0m         \u001b[0mself\u001b[0m\u001b[0;34m.\u001b[0m\u001b[0melements\u001b[0m \u001b[0;34m=\u001b[0m \u001b[0mself\u001b[0m\u001b[0;34m.\u001b[0m\u001b[0melements\u001b[0m\u001b[0;34m[\u001b[0m\u001b[0;36m1\u001b[0m\u001b[0;34m:\u001b[0m\u001b[0;34m]\u001b[0m\u001b[0;34m\u001b[0m\u001b[0;34m\u001b[0m\u001b[0m\n",
      "\u001b[0;31mAssertionError\u001b[0m: cola vacía"
     ]
    }
   ],
   "source": [
    "import PS01_04 as st  \n",
    "from importlib import reload; reload(st)\n",
    "\n",
    "print (\"enqueueing elements\")\n",
    "q = st.Queue()\n",
    "q.put(4).put(2).put(\"hola\")\n",
    "print (q.len())\n",
    "print (q.elements)\n",
    "\n",
    "print (\"\\n--\\ndequeueing\")\n",
    "for _ in range(q.len()):\n",
    "    print (q.get())\n",
    "\n",
    "print (\"this next call must fail\")\n",
    "q.get()"
   ]
  },
  {
   "cell_type": "markdown",
   "metadata": {},
   "source": [
    "#### comprueba tu código con el corrector automático\n"
   ]
  },
  {
   "cell_type": "code",
   "execution_count": 21,
   "metadata": {},
   "outputs": [
    {
     "name": "stdout",
     "output_type": "stream",
     "text": [
      "checking your code with 100 random parameters\r\n",
      "** CORRECTO **\r\n",
      "evaluation result 5.0\r\n"
     ]
    }
   ],
   "source": [
    "!./run CHECK_SOLUTION PS01_04"
   ]
  },
  {
   "cell_type": "markdown",
   "metadata": {},
   "source": [
    "#### registra tu solución en línea"
   ]
  },
  {
   "cell_type": "code",
   "execution_count": null,
   "metadata": {},
   "outputs": [],
   "source": [
    "!./run SUBMIT_SOLUTION PS01_04"
   ]
  },
  {
   "cell_type": "markdown",
   "metadata": {},
   "source": [
    "## Medición de rendimientos y complejidades algorítmicas\n",
    "\n",
    "## Ejercicio 5\n",
    "\n",
    "completa la función siguiente que debe de llenar una cola o una pila `t`, pasada como argumento, con `n` números **enteros** aleatorios con valores entre 0 y 9, ambos incluidos. Usa [np.random.randint](https://docs.scipy.org/doc/numpy/reference/generated/numpy.random.randint.html)"
   ]
  },
  {
   "cell_type": "code",
   "execution_count": 6,
   "metadata": {},
   "outputs": [
    {
     "name": "stdout",
     "output_type": "stream",
     "text": [
      "Overwriting ./utils/student_function/PS01_05.py\n"
     ]
    }
   ],
   "source": [
    "%%writefile ./utils/student_function/PS01_05.py\n",
    "import numpy as np\n",
    "def fill(t, n):\n",
    "    numeros = np.random.randint(10,size=n)\n",
    "    for i in numeros: \n",
    "        t.put(i)\n",
    "    return t"
   ]
  },
  {
   "cell_type": "markdown",
   "metadata": {},
   "source": [
    "comprueba manualmente tu código, cada ejecución ha de generar valores distintos"
   ]
  },
  {
   "cell_type": "code",
   "execution_count": 38,
   "metadata": {},
   "outputs": [
    {
     "name": "stdout",
     "output_type": "stream",
     "text": [
      "len= 100\n",
      "4 9 4 4 7 5 3 3 0 1 4 0 2 1 9 6 4 2 2 2 8 7 0 3 9 1 3 8 3 0 8 0 2 2 2 0 8 2 7 9 7 5 8 2 1 7 8 5 2 7 5 3 8 9 0 3 8 0 1 1 7 9 3 5 1 8 0 0 6 8 7 6 1 7 6 0 3 8 4 9 0 5 1 8 5 6 1 4 8 1 8 6 3 5 8 2 1 8 5 2 "
     ]
    }
   ],
   "source": [
    "import PS01_05 as st5\n",
    "import PS01_04 as st4\n",
    "from importlib import reload\n",
    "reload(st4);reload(st5)\n",
    "\n",
    "q = st5.fill(st4.Queue(), 100)\n",
    "print (\"len=\",q.len())\n",
    "for _ in range(q.len()):\n",
    "    print (q.get(), end=\" \")"
   ]
  },
  {
   "cell_type": "markdown",
   "metadata": {},
   "source": [
    "#### comprueba tu código con el corrector automático\n"
   ]
  },
  {
   "cell_type": "code",
   "execution_count": 39,
   "metadata": {},
   "outputs": [
    {
     "name": "stdout",
     "output_type": "stream",
     "text": [
      "checking your code with 100 random parameters\r\n",
      "** CORRECTO **\r\n",
      "evaluation result 5.0\r\n"
     ]
    }
   ],
   "source": [
    "!./run CHECK_SOLUTION PS01_05"
   ]
  },
  {
   "cell_type": "markdown",
   "metadata": {},
   "source": [
    "#### registra tu solución en línea"
   ]
  },
  {
   "cell_type": "code",
   "execution_count": 40,
   "metadata": {},
   "outputs": [
    {
     "name": "stdout",
     "output_type": "stream",
     "text": [
      "connecting ... registering submission for sebastian.ruiz8@udea.edu.co ...\n",
      "no config found for section PS01, allowing all submissions\n",
      "your submissions sheet is https://docs.google.com/spreadsheets/d/1WaK6Gr9sKYog5B6r3UnFKCNRUOte1AwPbjkDQg5r3kI\n",
      "checking your code with 100 random parameters\n",
      "** CORRECTO **\n",
      "----\n",
      "evaluation result 5.0 , submission registered\n"
     ]
    }
   ],
   "source": [
    "!./run SUBMIT_SOLUTION PS01_05"
   ]
  },
  {
   "cell_type": "markdown",
   "metadata": {},
   "source": [
    "## Ejercicio 6\n",
    "completa la función siguiente que debe de vaciar una cola o pila `t` y devolver el conjunto de datos obtenido tras vaciarla."
   ]
  },
  {
   "cell_type": "code",
   "execution_count": 9,
   "metadata": {},
   "outputs": [
    {
     "name": "stdout",
     "output_type": "stream",
     "text": [
      "Overwriting ./utils/student_function/PS01_06.py\n"
     ]
    }
   ],
   "source": [
    "%%writefile ./utils/student_function/PS01_06.py\n",
    "import numpy as np\n",
    "def empty(t):\n",
    "    a = []\n",
    "    for i in range(t.len()):\n",
    "        a.append(t.get())\n",
    "    return a"
   ]
  },
  {
   "cell_type": "code",
   "execution_count": 89,
   "metadata": {},
   "outputs": [
    {
     "data": {
      "text/plain": [
       "([1, 4, 1, 10, 2, 3], [])"
      ]
     },
     "execution_count": 89,
     "metadata": {},
     "output_type": "execute_result"
    }
   ],
   "source": [
    "import PS01_06 as st6\n",
    "import PS01_04 as st4\n",
    "from importlib import reload\n",
    "reload(st4); reload(st6)\n",
    "a = [1,4,1,10,2,3]\n",
    "q = st4.Queue()\n",
    "for i in a:\n",
    "    q.put(i)\n",
    "k = st6.empty(q)\n",
    "k,q.elements"
   ]
  },
  {
   "cell_type": "markdown",
   "metadata": {},
   "source": [
    "#### comprueba tu código con el corrector automático\n"
   ]
  },
  {
   "cell_type": "code",
   "execution_count": 90,
   "metadata": {},
   "outputs": [
    {
     "name": "stdout",
     "output_type": "stream",
     "text": [
      "checking your code with 100 random parameters\r\n",
      "** CORRECTO **\r\n",
      "evaluation result 5.0\r\n"
     ]
    }
   ],
   "source": [
    "!./run CHECK_SOLUTION PS01_06"
   ]
  },
  {
   "cell_type": "markdown",
   "metadata": {},
   "source": [
    "#### registra tu solución en línea"
   ]
  },
  {
   "cell_type": "code",
   "execution_count": 91,
   "metadata": {},
   "outputs": [
    {
     "name": "stdout",
     "output_type": "stream",
     "text": [
      "connecting ... registering submission for sebastian.ruiz8@udea.edu.co ...\n",
      "no config found for section PS01, allowing all submissions\n",
      "your submissions sheet is https://docs.google.com/spreadsheets/d/1WaK6Gr9sKYog5B6r3UnFKCNRUOte1AwPbjkDQg5r3kI\n",
      "checking your code with 100 random parameters\n",
      "** CORRECTO **\n",
      "----\n",
      "evaluation result 5.0 , submission registered\n"
     ]
    }
   ],
   "source": [
    "!./run SUBMIT_SOLUTION PS01_06"
   ]
  },
  {
   "cell_type": "markdown",
   "metadata": {},
   "source": [
    "## Experimento\n",
    "\n",
    "**ya acabaste el taller**, fíjate ahora como hacemos un experimento con pilas y colas de varios tamaños y comparamos los tiempos de ejecución. Comparamos también con las implementaciones que ya vienen en las librerías estándar de Python: [Queue LifoQueue](https://docs.python.org/2/library/queue.html). Observa que `queue.Queue` es funcionalmente equivalente a nuestro `Queue` y `queue.LifoQueue` es equivalente a nuestro `Stack`.\n",
    "\n",
    "Hazte las siguientes preguntas:\n",
    "\n",
    "- ¿Qué implementaciones son más lentas y más rápidas? ¿Por qué?\n",
    "- ¿Qué complejidades tenemos en inserción y recuperación? $\\mathcal{O}(n)$, $\\mathcal{O}(\\log n)$, $\\mathcal{O}(c)$ ?\n",
    "\n",
    "Observa que las métricas de tiempo tienen dos componentes:\n",
    "\n",
    "- El debido a la complejidad intrínseca del algoritmo\n",
    "- El debido a la implementación del mismo"
   ]
  },
  {
   "cell_type": "code",
   "execution_count": 10,
   "metadata": {},
   "outputs": [
    {
     "ename": "ModuleNotFoundError",
     "evalue": "No module named 'PS01_06'",
     "output_type": "error",
     "traceback": [
      "\u001b[0;31m---------------------------------------------------------------------------\u001b[0m",
      "\u001b[0;31mModuleNotFoundError\u001b[0m                       Traceback (most recent call last)",
      "\u001b[0;32m<ipython-input-10-24161a46cf87>\u001b[0m in \u001b[0;36m<module>\u001b[0;34m\u001b[0m\n\u001b[1;32m      1\u001b[0m \u001b[0;32mimport\u001b[0m \u001b[0mmatplotlib\u001b[0m\u001b[0;34m.\u001b[0m\u001b[0mpyplot\u001b[0m \u001b[0;32mas\u001b[0m \u001b[0mplt\u001b[0m\u001b[0;34m\u001b[0m\u001b[0;34m\u001b[0m\u001b[0m\n\u001b[0;32m----> 2\u001b[0;31m \u001b[0;32mimport\u001b[0m \u001b[0mPS01_06\u001b[0m \u001b[0;32mas\u001b[0m \u001b[0mst6\u001b[0m\u001b[0;34m\u001b[0m\u001b[0;34m\u001b[0m\u001b[0m\n\u001b[0m\u001b[1;32m      3\u001b[0m \u001b[0;32mimport\u001b[0m \u001b[0mPS01_05\u001b[0m \u001b[0;32mas\u001b[0m \u001b[0mst5\u001b[0m\u001b[0;34m\u001b[0m\u001b[0;34m\u001b[0m\u001b[0m\n\u001b[1;32m      4\u001b[0m \u001b[0;32mimport\u001b[0m \u001b[0mPS01_04\u001b[0m \u001b[0;32mas\u001b[0m \u001b[0mst4\u001b[0m\u001b[0;34m\u001b[0m\u001b[0;34m\u001b[0m\u001b[0m\n\u001b[1;32m      5\u001b[0m \u001b[0;32mimport\u001b[0m \u001b[0mPS01_03\u001b[0m \u001b[0;32mas\u001b[0m \u001b[0mst3\u001b[0m\u001b[0;34m\u001b[0m\u001b[0;34m\u001b[0m\u001b[0m\n",
      "\u001b[0;31mModuleNotFoundError\u001b[0m: No module named 'PS01_06'"
     ]
    }
   ],
   "source": [
    "import matplotlib.pyplot as plt\n",
    "import PS01_06 as st6        \n",
    "import PS01_05 as st5 \n",
    "import PS01_04 as st4 \n",
    "import PS01_03 as st3 \n",
    "%matplotlib inline\n",
    "def compare(class_1, class_2, n_powers=5):\n",
    "    global n, class_A, class_B, q\n",
    "    class_A = class_1\n",
    "    class_B = class_2\n",
    "    t1, t2, t3, t4 = [], [], [], []\n",
    "\n",
    "    ns = [int(10**i) for i in range(n_powers)]\n",
    "    \n",
    "    for n in ns:\n",
    "        print (n,end=\" \")\n",
    "        k = %timeit -o -q st5.fill(class_A(), n)\n",
    "        t1.append(k.best*1000)\n",
    "\n",
    "        k = %timeit -o -q st5.fill(class_B(), n)\n",
    "        t2.append(k.best*1000)\n",
    "        \n",
    "        q = st5.fill(class_A(), n)\n",
    "        k = %timeit -o -r 1 -n 1 -q st6.empty(q)\n",
    "        t3.append(k.best*1000)\n",
    "\n",
    "        q = st5.fill(class_B(), n)\n",
    "        k = %timeit -o -r 1 -n 1 -q st6.empty(q)\n",
    "        t4.append(k.best*1000)\n",
    "                \n",
    "    plt.figure(figsize=(10,3))\n",
    "    \n",
    "    plt.subplot(121)\n",
    "    plt.plot(t1, label=class_A.__name__+\" fill\")\n",
    "    plt.plot(t2, label=class_B.__name__+\" fill\")\n",
    "    plt.xticks(range(len(ns)), ns)\n",
    "    plt.xlabel(\"number of elements\")\n",
    "    plt.ylabel(\"time (ms)\")\n",
    "    plt.legend()\n",
    "    \n",
    "    plt.subplot(122)\n",
    "    plt.plot(t3, label=class_A.__name__+\" empty\")\n",
    "    plt.plot(t4, label=class_B.__name__+\" empty\")\n",
    "    plt.xticks(range(len(ns)), ns)\n",
    "    plt.xlabel(\"number of elements\")\n",
    "    plt.legend()\n"
   ]
  },
  {
   "cell_type": "code",
   "execution_count": 94,
   "metadata": {},
   "outputs": [
    {
     "name": "stdout",
     "output_type": "stream",
     "text": [
      "1 10 100 1000 10000 "
     ]
    },
    {
     "data": {
      "image/png": "[encoded data removed]",
      "text/plain": [
       "<Figure size 720x216 with 2 Axes>"
      ]
     },
     "metadata": {
      "needs_background": "light"
     },
     "output_type": "display_data"
    }
   ],
   "source": [
    "compare(st4.Queue, st3.Stack);"
   ]
  },
  {
   "cell_type": "code",
   "execution_count": 95,
   "metadata": {},
   "outputs": [
    {
     "name": "stdout",
     "output_type": "stream",
     "text": [
      "1 10 100 1000 10000 "
     ]
    },
    {
     "data": {
      "image/png": "[encoded data removed]",
      "text/plain": [
       "<Figure size 720x216 with 2 Axes>"
      ]
     },
     "metadata": {
      "needs_background": "light"
     },
     "output_type": "display_data"
    }
   ],
   "source": [
    "import queue\n",
    "\n",
    "class wQueue(queue.Queue):\n",
    "    def len(self):\n",
    "        return self.qsize()\n",
    "\n",
    "class wLifoQueue(queue.LifoQueue):\n",
    "    def len(self):\n",
    "        return self.qsize()\n",
    "\n",
    "    \n",
    "compare(wQueue, wLifoQueue)"
   ]
  },
  {
   "cell_type": "code",
   "execution_count": null,
   "metadata": {},
   "outputs": [],
   "source": []
  }
 ],
 "metadata": {
  "kernelspec": {
   "display_name": "p37",
   "language": "python",
   "name": "python3"
  }
 },
 "nbformat": 4,
 "nbformat_minor": 2
}
